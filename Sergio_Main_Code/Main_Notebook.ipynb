{
 "metadata": {
  "name": "",
  "signature": "sha256:06c159d7b9d8c1de37a3f522ddc35a4c30b9617282f17b714bb2634c7bda4c1c"
 },
 "nbformat": 3,
 "nbformat_minor": 0,
 "worksheets": [
  {
   "cells": [
    {
     "cell_type": "code",
     "collapsed": true,
     "input": [
      "################################################ Package ##################################################\n",
      "#Main Libs\n",
      "import numpy as np\n",
      "#Notebook Libs\n",
      "import matplotlib\n",
      "import matplotlib.pyplot as plt\n",
      "%matplotlib inline \n",
      "#Internal Libs\n",
      "## HERE I IMPORT THE INTERNAL LIB \n",
      "import Read as R\n",
      "import Mate as M\n",
      "import Database as D\n",
      "import Functions as F\n",
      "import Print as P\n",
      "print \"######################################################\"\n",
      "print \"Starting the code!! Good Luck!!\"\n",
      "print \"Package Load\""
     ],
     "language": "python",
     "metadata": {},
     "outputs": []
    },
    {
     "cell_type": "code",
     "collapsed": true,
     "input": [
      "################################################ Pannel ################################################\n",
      "Use_CW = True #USE THE COSMIC WEB (TO BE DONE IN THIS NEW VERSION OF THE CODE)\n",
      "DO_2DHistogram = False # PRINT THE INFORMATION OF THE COLOR 2D HISTOGRAM\n",
      "DO_Track = True # PRINT THE INFORMATION OF TRACKING THE HALOES \n",
      "Track_Snap = [79] #SNAPSHOTS TO PRINT IN DO_TRACK, LBT = 5,8 Gyrs\n",
      "print \"Pannel load\""
     ],
     "language": "python",
     "metadata": {},
     "outputs": []
    },
    {
     "cell_type": "code",
     "collapsed": false,
     "input": [
      "############################################### VARS ###################################################\n",
      "Init_Snap = D.Init_Snap\n",
      "print \"Vars load\""
     ],
     "language": "python",
     "metadata": {},
     "outputs": []
    },
    {
     "cell_type": "code",
     "collapsed": false,
     "input": [
      "############################################### Init ###################################################\n",
      "print \"Init\""
     ],
     "language": "python",
     "metadata": {},
     "outputs": []
    },
    {
     "cell_type": "code",
     "collapsed": false,
     "input": [
      "############################################### Read ###################################################\n",
      "D_Web = []\n",
      "if D.Sim == 'B' and Use_CW:\n",
      "    print 'Reading Cosmic Web'\n",
      "    CosmicWeb1,CosmicWeb2 = R.Read_CW(\"/home/sergio/Escritorio/Projects/Dropbox/Dropbox_DATA/Webs/256Web.txt\",256)\n",
      "    # I READ THE COSMIC WEB  (#CHANGE HERE THE DIR) FOR TWEB\n",
      "    D_ID,D_New_ID,D_Npart,D_J,D_Web1,D_Web2 = R.Read_Step0(Init_Snap,Using_Web = True,Web1 = CosmicWeb1,Web2 = CosmicWeb2)\n",
      "    #READ THE INITIAL SNAPSHOT (D -> DESCENDANT) AT z=0\n",
      "else:\n",
      "    D_ID,D_New_ID,D_Npart,D_J = R.Read_Step0(Init_Snap)\n",
      "    #READ THE INITIAL SNAPSHOT (D -> DESCENDANT) AT z=0\n",
      "print \"Read\""
     ],
     "language": "python",
     "metadata": {},
     "outputs": []
    },
    {
     "cell_type": "code",
     "collapsed": false,
     "input": [
      "z,time = R.Read_Time('B')\n",
      "#READ THE TIME AND REDSHIFT OF THE SIMMULATION OF B (BOLSHOI)"
     ],
     "language": "python",
     "metadata": {},
     "outputs": []
    },
    {
     "cell_type": "code",
     "collapsed": false,
     "input": [
      "Long_Des = len(D_ID)\n",
      "#Number of Desc.\n",
      "Base_Snap = D.Init_Snap - D.End_Snap + 1\n",
      "##### Galaxy properties\n",
      "Pr_ID = np.zeros((Base_Snap,Long_Des),dtype = long) - 99\n",
      "#HERE I SAVE THE ID OF THE PROGENITORS OF THE HALOS AT z=0\n",
      "#IF THE HALO LOSE IT PROGENITOR, IT WILL HAVE AN ID OF -99\n",
      "Form_Snap = np.zeros((Base_Snap,Long_Des),dtype = long) + D.End_Snap\n",
      "# THE FORMATION SNAPSHOT OF THE HALO\n",
      "Pr_J =  np.zeros((Base_Snap,Long_Des,3),dtype = float) - 99\n",
      "# THE ANGULAR MOMENTUM OF THE PROGENITORS OF THE HALOS AT z=0\n",
      "#IF THE HALO LOSE IT PROGENITOR, IT WILL HAVE A J OF -99\n",
      "Pr_Npart =  np.zeros((Base_Snap,Long_Des),dtype = float)\n",
      "# THE NUMBER OF PARTICLES OF THE PROGENITORS OF THE HALOS AT z=0\n",
      "#IF THE HALO LOSE IT PROGENITOR, IT WILL HAVE A VALUE OF -99\n",
      "Pr_NProg =  np.zeros((Base_Snap,Long_Des),dtype = int)\n",
      "# THE NUMBER OF PROGENITOR IN THE PREV. SNAPSHOT OF THE PROGENITORS OF THE HALOS AT z=0 (EG\n",
      "# IF THERE WAS A MERGER, THIS NUMBER IS MORE THAN 1\n",
      "#IF THE HALO LOSE IT PROGENITOR, IT WILL HAVE A VALUE OF -99\n",
      "Pr_ID[D.Init_Snap - D.End_Snap] = D_ID[:]\n",
      "Pr_J[D.Init_Snap - D.End_Snap] = D_J[:]\n",
      "Pr_Npart[D.Init_Snap - D.End_Snap] = D_Npart[:]\n",
      "#I GIVE THE VALUES OF THE FIRST SNAPSHOT EQUAL AS THE DESCENDANT\n",
      "Main_Index = []\n",
      "##"
     ],
     "language": "python",
     "metadata": {},
     "outputs": []
    },
    {
     "cell_type": "code",
     "collapsed": false,
     "input": [
      "######################### MAIN ################################"
     ],
     "language": "python",
     "metadata": {},
     "outputs": []
    },
    {
     "cell_type": "code",
     "collapsed": false,
     "input": [
      "######################### Load Index ###########################\n",
      "# HERE I READ THE OTHER SNAPSHOT, AND I ASSIGNE RHE VALUES READ HERE\n",
      "# TO THE RESPECTIVE DESCENDANT, ALL THE ARRAY HAVE THE NEXT STRUCTURE:\n",
      "# ARRAY[SNAPSHOT][DESENDENT] WITH SNAPSHOT THE SNAPSHOT OF THE SIM (200 == z=0)\n",
      "# SO THE FINAL RESULT: ARRAY[3][200] IS A HALO (3) AT z = 0, ARRAY[3][199] IS\n",
      "# THE SAME HALO IN THE NEXT SNAPSHOT, ARRAY[3][79] IS THAT GALAXY AT LBT = 8 Gyrs\n",
      "# IF ARRAY = -99 MEANS THAT HALO WAS NOT CREATED (OR WAS BELOW 1000 PARTICLES)\n",
      "# AT THAT REDSHIFT\n",
      "for Snap2 in reversed(range(Base_Snap-1)):\n",
      "    Snap = Snap2+D.End_Snap\n",
      "    P_ID,P_New_ID,P_Npart,P_J = R.Read_Main(Snap)\n",
      "    #print len(Main_Index[Snap2])\n",
      "    del Main_Index\n",
      "    Main_Index = []\n",
      "    for i in range(len(D_ID)):\n",
      "        if Pr_ID[Snap2+1][i] >= 0:\tindex = F.Locate_Prog(0,len(P_ID)-1,Pr_ID[Snap2+1][i],P_New_ID)\n",
      "        else:\tindex = -99\n",
      "        if index >= 0:\tPr_NProg[Snap2][i],Main_ID,Max_Mass,Next_ID,Next_Mass  = F.Locate_MainProg(index,Pr_ID[Snap2+1][i],P_New_ID,P_Npart)\n",
      "        else:\tNprog,Main_ID,Max_Mass,Next_ID,Next_Mass,Form_Snap[Snap2][i]   = -99,-99,-99,-99,-99,Snap\n",
      "        Main_Index.append(index)\n",
      "        ###\n",
      "    IND = np.where(np.array(Main_Index) < 0)\n",
      "    Pr_J[Snap2] = P_J[Main_Index]\n",
      "    Pr_J[Snap2][IND] = np.array([-99,-99,-99])\n",
      "    Pr_ID[Snap2] = P_ID[Main_Index]\n",
      "    Pr_ID[Snap2][IND] = -99\n",
      "    Pr_Npart[Snap2] = P_Npart[Main_Index]\n",
      "    Pr_Npart[Snap2][IND] = -99\n",
      "    #print Snap,len(IND[0]),'\\r'"
     ],
     "language": "python",
     "metadata": {},
     "outputs": []
    },
    {
     "cell_type": "code",
     "collapsed": false,
     "input": [
      "#DO_MillSnap = False\n",
      "Pos_PreAcr_ID = F.Neg_Mass_Status(Pr_Npart,Crit = 1.01)\n",
      "Pos_Acr_ID = np.all(Pos_PreAcr_ID[-4:], axis= 0)\n",
      "if DO_2DHistogram:\n",
      "    F.HISTO_2D(Pr_ID[:,Pos_Acr_ID],Pr_J[:,Pos_Acr_ID], Add = 'NNA')\n",
      "    F.HISTO_2D(Pr_ID,Pr_J)"
     ],
     "language": "python",
     "metadata": {},
     "outputs": []
    },
    {
     "cell_type": "code",
     "collapsed": false,
     "input": [
      "if DO_Track:\n",
      "    #J_rand = F.Get_Random_J2(Pr_J,Pr_Npart,Ratio = -1)\n",
      "    J_rand = F.Get_Random_J(Pr_J,Pr_Npart)\n",
      "    # CALCULATE RANDOM ANGLES OF THE HALOES, THE IDEA HERE IS TO FOLLOW THE HALOES THAT SUFFER OF THE\n",
      "    # SAME CHANGE OF ANGLE IN J  BUT ONLY IN MODULUS, NOT IN DIRECTION, THE DIRECTION IS SET TO BE RANDOM\n",
      "    # EXAMPLE, J CHANGE FIRST 10 DEGREES, THEN 20 DEGREES, IN REALLITY THE TOTAL CHANGE WAS 25 (FOR EXAMPLE)\n",
      "    # BUT RANDOM DIRECTION (THAT ALSO SUFFER 2 CHANGES OF 10 & 20 DEGREES) COULD BE A TOTAL OF 30 DEGREES, OR\n",
      "    # MAYBE 10  DEGREES\n",
      "    # THE RATIO = -1 IS WHAT IM WORKING NOW, WITH -1 I ALLOW ALL CHANGE OF DIRECTION OF THE RANDOM ANGLE BETWEEN\n",
      "    # COS(ANGLE) =1 TO COS(ANGLE) OF '-1', I HAVE FOUND THAT IF I LIMIT THE RANDOM DIRECTION BETWEEN -0.5 TO 1\n",
      "    # THE RESULTS ARE ACTUALLY REALLY SIMILAR TO THE REAL CHANGE OF ANGLE!!\n",
      "    "
     ],
     "language": "python",
     "metadata": {},
     "outputs": []
    },
    {
     "cell_type": "code",
     "collapsed": false,
     "input": [
      "if DO_Track:\n",
      "    for first_snap in Track_Snap:\n",
      "        Snap2 = first_snap - D.End_Snap \n",
      "        Pos_PreAcr_ID = F.Neg_Mass_Status(Pr_Npart,Crit = 1.01)\n",
      "        # HERE I TAKE THE INDEX OF THE GALAXIES THAT DO NOT SUFFER A NEGATIVE ACREATION IN THEIR HISTORY OF MORE\n",
      "        # THAN 1% (THATS WHY 1.01), THE RESULT OF USING THESE GALAXIES ARE DIFFERENT SPECIALLY IN MILL. SIM.\n",
      "        #Pr_J_NNA = Pr_J[:,Pos_Acr_ID[0]]\n",
      "        #Pr_Npart_NNA = Pr_Npart[:,Pos_Acr_ID[0]]\n",
      "        #Pr_Jr_NNA = J_rand[:,Pos_Acr_ID[0]]\n",
      "        # THE NNA MEANS NO NEGATIVE ACREATION\n",
      "        # \n",
      "        Pos_Acr_ID = np.all(Pos_PreAcr_ID[Snap2:], axis= 0)\n",
      "        Pr_J_NNA =         Pr_J[:,Pos_Acr_ID]\n",
      "        Pr_Npart_NNA = Pr_Npart[:,Pos_Acr_ID]\n",
      "        Pr_Jr_NNA =      J_rand[:,Pos_Acr_ID]\n",
      "        print 'Number of NNA Haloes',len(np.where(Pos_Acr_ID)[0])\n",
      "        F.Abs_ChangeJ_Full(Pr_J_NNA,Pr_Jr_NNA,Pr_Npart_NNA,first_snap,time,ExtraName = 'NNA')\n",
      "        F.Abs_ChangeJ_Full(Pr_J,J_rand,Pr_Npart,first_snap,time,ExtraName = '')\n",
      "        # HERE IT CALCULATE THE DIFFERENT PROPERTIES WE ARE GOING TO FOLLOW, AS YOU SEE, IT HAS AN OPTION OF COSMIC WEB, BECAUSE IN THE OLD\n",
      "        # VERSION OF THE CODE IT COULD SEPARATE BY THAT (THIS ONE I HAVE NOT ADD THIS OPTION YET)\n",
      "        # IT PRINT 3 MAIN FILES:\n",
      "        # CHANGEJ THAT IS HOW MUCH THE ANGULAR MOMENTUM VECTOR HAS BEEN SEPARATE FROM IT ORIGINAL POSITION (FIRST COLUMN LBTIME, THE MEDIAN CHANGE OF ANGLE,\n",
      "        # THEN THE MEDIAN FOR 5 DM OF MASS (10^3 - 10^3.5 PARTICLES, THEN 10^3.5-10^4 PARTICLES, ETC) (FIG. 4 OF THE DRAFT)\n",
      "        # CHANGEDIR IS THE CHANGE OF DIRECTION OF AN ORIGINAL CHANGE OF DIRECTION (FIG 8 OF THE PAPER) THE COLUMNS ARE THE SAME IDEA AS BEFORE\n",
      "        # FINALLY JRATIO, THAT IS THE RATIO BETWEEN THE TOTAL CHANGE OF ANGLE OF THE REAL HALO DIVIDED THE RANDOM ORIENTATED ONE.\n",
      "        # FIRST TWO FILES HAS A _R_ VERTION (WITH THE RANDOM GALAXIES)\n",
      "        if Use_CW:\n",
      "            for cw in range(4):\n",
      "                CWID1 = np.where(D_Web1 == cw)\n",
      "                CWID2 = np.where(D_Web2 == cw)\n",
      "                # CWID THE ID OF THE HALOES WITH THE COSMIC WEB (cw) = 0,1,2,3 (VOID, WALL, FILAMENT OR KNOT)\n",
      "                # BY DEFAULT IS THE NUMBER OF EIGENVALUES > 0.4\n",
      "                F.Abs_ChangeJ_Full(Pr_J[:,CWID1],J_rand[:,CWID1],Pr_Npart[:,CWID1],first_snap,time,ExtraName = 'TWeb'+str(cw))\n",
      "                F.Abs_ChangeJ_Full(Pr_J[:,CWID2],J_rand[:,CWID2],Pr_Npart[:,CWID2],first_snap,time,ExtraName = 'VWeb'+str(cw))\n",
      "                # WE RE-RUN THE CODE BUT ONLY FOR HALOES IN THE GIVEN COSMIC WEB ID\n",
      "        \n",
      "        \n",
      "        \n"
     ],
     "language": "python",
     "metadata": {},
     "outputs": []
    },
    {
     "cell_type": "code",
     "collapsed": false,
     "input": [
      "if DO_Track:\n",
      "    for first_snap in Track_Snap:\n",
      "        Dir,Dir_Full = F.Proj_Angle(Pr_J,Pr_Npart,first_snap,np.array(time),dT = 0.5)\n",
      "        Dir_R,Dir_R_Full = F.Proj_Angle(J_rand,Pr_Npart,first_snap,np.array(time),dT = 0.5)\n",
      "    # STILL IN PROGRESS, A NEW PLOT TO MEASURE THE CHANGE OF DIRECTION"
     ],
     "language": "python",
     "metadata": {},
     "outputs": []
    },
    {
     "cell_type": "code",
     "collapsed": false,
     "input": [
      "print \"Done!\""
     ],
     "language": "python",
     "metadata": {},
     "outputs": []
    }
   ],
   "metadata": {}
  }
 ]
}