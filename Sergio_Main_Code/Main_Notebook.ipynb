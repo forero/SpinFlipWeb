{
 "metadata": {
  "name": ""
 },
 "nbformat": 3,
 "nbformat_minor": 0,
 "worksheets": [
  {
   "cells": [
    {
     "cell_type": "code",
     "collapsed": false,
     "input": [
      "################################################ Package ##################################################\n",
      "#Main Libs\n",
      "import numpy as np\n",
      "#Notebook Libs\n",
      "import matplotlib\n",
      "import matplotlib.pyplot as plt\n",
      "%matplotlib inline \n",
      "#Internal Libs\n",
      "#import Print as P\n",
      "import Read as R\n",
      "import Mate as M\n",
      "import Database as D\n",
      "import Functions as F\n",
      "import Print as P\n",
      "print \"######################################################\"\n",
      "print \"Starting the code!! Good Luck!!\"\n",
      "print \"Package Load\""
     ],
     "language": "python",
     "metadata": {},
     "outputs": [
      {
       "output_type": "stream",
       "stream": "stdout",
       "text": [
        "######################################################\n",
        "Starting the code!! Good Luck!!\n",
        "Package Load\n"
       ]
      }
     ],
     "prompt_number": 1
    },
    {
     "cell_type": "code",
     "collapsed": false,
     "input": [
      "################################################ Pannel ################################################\n",
      "Use_CW = False\n",
      "DO_2DHistogram = True\n",
      "DO_MillSnap = False\n",
      "DO_Track = True\n",
      "Track_Snap = [111,79]\n",
      "print \"Pannel load\""
     ],
     "language": "python",
     "metadata": {},
     "outputs": [
      {
       "output_type": "stream",
       "stream": "stdout",
       "text": [
        "Pannel load\n"
       ]
      }
     ],
     "prompt_number": 2
    },
    {
     "cell_type": "code",
     "collapsed": false,
     "input": [
      "############################################### VARS ###################################################\n",
      "Init_Snap = D.Init_Snap\n",
      "print \"Vars load\""
     ],
     "language": "python",
     "metadata": {},
     "outputs": [
      {
       "output_type": "stream",
       "stream": "stdout",
       "text": [
        "Vars load\n"
       ]
      }
     ],
     "prompt_number": 3
    },
    {
     "cell_type": "code",
     "collapsed": false,
     "input": [
      "############################################### Init ###################################################\n",
      "if DO_2DHistogram:\n",
      "    W  = open(D.Exit_Dir_2DHisto+\"dAngMom_\"+str(Init_Snap)+\".txt\", \"w\")\n",
      "print \"Init\""
     ],
     "language": "python",
     "metadata": {},
     "outputs": [
      {
       "output_type": "stream",
       "stream": "stdout",
       "text": [
        "Init\n"
       ]
      }
     ],
     "prompt_number": 4
    },
    {
     "cell_type": "code",
     "collapsed": false,
     "input": [
      "############################################### Read ###################################################\n",
      "D_Web = []\n",
      "if D.Sim == 'B' and Use_CW:\n",
      "    print 'Reading Cosmic Web'\n",
      "    CosmicWeb = R.Read_CW(\"/home/sergio/Escritorio/Projects/Dropbox/Dropbox_DATA/Webs/256Web.ser\",256)\n",
      "    D_ID,D_New_ID,D_Npart,D_J,D_Web = R.Read_Step0(Init_Snap,Using_Web = True,Web = CosmicWeb)\n",
      "else:\n",
      "    D_ID,D_New_ID,D_Npart,D_J = R.Read_Step0(Init_Snap)\n",
      "print \"Read\""
     ],
     "language": "python",
     "metadata": {},
     "outputs": [
      {
       "output_type": "stream",
       "stream": "stdout",
       "text": [
        "Read\n"
       ]
      }
     ],
     "prompt_number": 5
    },
    {
     "cell_type": "code",
     "collapsed": false,
     "input": [
      "z,time = R.Read_Time('B')"
     ],
     "language": "python",
     "metadata": {},
     "outputs": [],
     "prompt_number": 6
    },
    {
     "cell_type": "code",
     "collapsed": false,
     "input": [
      "Long_Des = len(D_ID)\n",
      "#Number of Desc.\n",
      "Base_Snap = D.Init_Snap - D.End_Snap + 1\n",
      "##### Galaxy properties\n",
      "Pr_ID = np.zeros((Base_Snap,Long_Des),dtype = long) - 99\n",
      "Form_Snap = np.zeros((Base_Snap,Long_Des),dtype = long) + D.End_Snap\n",
      "Pr_J =  np.zeros((Base_Snap,Long_Des,3),dtype = float) - 99\n",
      "Pr_Npart =  np.zeros((Base_Snap,Long_Des),dtype = float)\n",
      "Pr_NProg =  np.zeros((Base_Snap,Long_Des),dtype = int)\n",
      "## Init Values at z=0\n",
      "Pr_ID[D.Init_Snap - D.End_Snap] = D_ID[:]\n",
      "Pr_J[D.Init_Snap - D.End_Snap] = D_J[:]\n",
      "Pr_Npart[D.Init_Snap - D.End_Snap] = D_Npart[:]\n",
      "Main_Index = []\n",
      "##"
     ],
     "language": "python",
     "metadata": {},
     "outputs": [],
     "prompt_number": 13
    },
    {
     "cell_type": "code",
     "collapsed": false,
     "input": [
      "######################### MAIN ################################"
     ],
     "language": "python",
     "metadata": {},
     "outputs": [],
     "prompt_number": 8
    },
    {
     "cell_type": "code",
     "collapsed": false,
     "input": [
      "######################### Load Index ###########################\n",
      "for Snap2 in reversed(range(Base_Snap-1)):\n",
      "    Snap = Snap2+D.End_Snap\n",
      "    P_ID,P_New_ID,P_Npart,P_J = R.Read_Main(Snap)\n",
      "    #print len(Main_Index[Snap2])\n",
      "    del Main_Index\n",
      "    Main_Index = []\n",
      "    for i in range(len(D_ID)):\n",
      "        if Pr_ID[Snap2+1][i] >= 0:\tindex = F.Locate_Prog(0,len(P_ID)-1,Pr_ID[Snap2+1][i],P_New_ID)\n",
      "        else:\tindex = -99\n",
      "        if index >= 0:\tPr_NProg[Snap2][i],Main_ID,Max_Mass,Next_ID,Next_Mass  = F.Locate_MainProg(index,Pr_ID[Snap2+1][i],P_New_ID,P_Npart)\n",
      "        else:\tNprog,Main_ID,Max_Mass,Next_ID,Next_Mass,Form_Snap[Snap2][i]   = -99,-99,-99,-99,-99,Snap\n",
      "        Main_Index.append(index)\n",
      "        ###\n",
      "    IND = np.where(np.array(Main_Index) < 0)\n",
      "    Pr_J[Snap2] = P_J[Main_Index]\n",
      "    Pr_J[Snap2][IND] = np.array([-99,-99,-99])\n",
      "    Pr_ID[Snap2] = P_ID[Main_Index]\n",
      "    Pr_ID[Snap2][IND] = -99\n",
      "    Pr_Npart[Snap2] = P_Npart[Main_Index]\n",
      "    Pr_Npart[Snap2][IND] = -99\n",
      "    #print Snap,len(IND[0]),'\\r'"
     ],
     "language": "python",
     "metadata": {},
     "outputs": [],
     "prompt_number": 17
    },
    {
     "cell_type": "code",
     "collapsed": false,
     "input": [
      "if DO_2DHistogram:\n",
      "    if DO_MillSnap:\n",
      "        Snap01 = D.LSnap[-1] - D.End_Snap\n",
      "        Snap02 = D.LSnap[-2] - D.End_Snap\n",
      "        Snap03 = D.LSnap[-3] - D.End_Snap\n",
      "    else:\n",
      "        Snap01 = D.Init_Snap - D.End_Snap\n",
      "        Snap02 = Snap01 - 1\n",
      "        Snap03 = Snap02 - 1\n",
      "    ID_to_Look = np.where(Pr_ID[Snap03] > -1)\n",
      "    ##\n",
      "    Angl1 = []\n",
      "    Angl2 = []\n",
      "    Angl3 = []\n",
      "    Angl4 = []\n",
      "    CAngl = []\n",
      "    IDs = 0\n",
      "    ##\n",
      "    for i in ID_to_Look[0]:\n",
      "        Angl1.append(M.Angle(Pr_J[Snap02][i][0],Pr_J[Snap02][i][1],Pr_J[Snap02][i][2],Pr_J[Snap01][i][0],Pr_J[Snap01][i][1],Pr_J[Snap01][i][2]))\n",
      "        Angl2.append(M.Angle(Pr_J[Snap02][i][0],Pr_J[Snap02][i][1],Pr_J[Snap02][i][2],Pr_J[Snap03][i][0],Pr_J[Snap03][i][1],Pr_J[Snap03][i][2]))\n",
      "        Angl3.append(M.Angle(Pr_J[Snap01][i][0],Pr_J[Snap01][i][1],Pr_J[Snap01][i][2],Pr_J[Snap03][i][0],Pr_J[Snap03][i][1],Pr_J[Snap03][i][2]))\n",
      "        \n",
      "        CAngl.append(F.CAngle(Pr_J[Snap01][i][0],Pr_J[Snap01][i][1],Pr_J[Snap01][i][2],Pr_J[Snap02][i][0],Pr_J[Snap02][i][1],Pr_J[Snap02][i][2],Pr_J[Snap03][i][0],Pr_J[Snap03][i][1],Pr_J[Snap03][i][2]))\n",
      "        ########\n",
      "        Rand_Jx1,Rand_Jy1,Rand_Jz1 =  M.Ang_Rand(Pr_J[Snap01][i][0],Pr_J[Snap01][i][1],Pr_J[Snap01][i][2],Angl1[IDs])\n",
      "        Rand_Jx2,Rand_Jy2,Rand_Jz2 =  M.Ang_Rand(Rand_Jx1,Rand_Jy1,Rand_Jz1,Angl2[IDs])\n",
      "        Angl4.append(M.Angle(Rand_Jx2,Rand_Jy2,Rand_Jz2,Pr_J[Snap01][i][0],Pr_J[Snap01][i][1],Pr_J[Snap01][i][2]))\n",
      "\t\t#######\n",
      "        IDs += 1\n",
      "    P.Print_Basic2([Angl1,Angl2,Angl3,Angl4,CAngl],'Data_2DHisto/2D_Histo_Data.txt') \n",
      "    if DO_MillSnap:\n",
      "        Snap01 = D.Init_Snap - D.End_Snap\n",
      "        Snap02 = Snap01 - 1\n",
      "        Snap03 = Snap02 - 1\n",
      "        ID_to_Look = np.where(Pr_ID[Snap03] > -1)\n",
      "        ##\n",
      "        Angl1 = []\n",
      "        Angl2 = []\n",
      "        Angl3 = []\n",
      "        Angl4 = []\n",
      "        CAngl = []\n",
      "        IDs = 0\n",
      "        ##\n",
      "        for i in ID_to_Look[0]:\n",
      "            Angl1.append(M.Angle(Pr_J[Snap02][i][0],Pr_J[Snap02][i][1],Pr_J[Snap02][i][2],Pr_J[Snap01][i][0],Pr_J[Snap01][i][1],Pr_J[Snap01][i][2]))\n",
      "            Angl2.append(M.Angle(Pr_J[Snap02][i][0],Pr_J[Snap02][i][1],Pr_J[Snap02][i][2],Pr_J[Snap03][i][0],Pr_J[Snap03][i][1],Pr_J[Snap03][i][2]))\n",
      "            Angl3.append(M.Angle(Pr_J[Snap01][i][0],Pr_J[Snap01][i][1],Pr_J[Snap01][i][2],Pr_J[Snap03][i][0],Pr_J[Snap03][i][1],Pr_J[Snap03][i][2]))\n",
      "        \n",
      "            CAngl.append(F.CAngle(Pr_J[Snap01][i][0],Pr_J[Snap01][i][1],Pr_J[Snap01][i][2],Pr_J[Snap02][i][0],Pr_J[Snap02][i][1],Pr_J[Snap02][i][2],Pr_J[Snap03][i][0],Pr_J[Snap03][i][1],Pr_J[Snap03][i][2]))\n",
      "            ########\n",
      "            Rand_Jx1,Rand_Jy1,Rand_Jz1 =  M.Ang_Rand(Pr_J[Snap01][i][0],Pr_J[Snap01][i][1],Pr_J[Snap01][i][2],Angl1[IDs])\n",
      "            Rand_Jx2,Rand_Jy2,Rand_Jz2 =  M.Ang_Rand(Rand_Jx1,Rand_Jy1,Rand_Jz1,Angl2[IDs])\n",
      "            Angl4.append(M.Angle(Rand_Jx2,Rand_Jy2,Rand_Jz2,Pr_J[Snap01][i][0],Pr_J[Snap01][i][1],Pr_J[Snap01][i][2]))\n",
      "            #######\n",
      "            IDs += 1\n",
      "        P.Print_Basic2([Angl1,Angl2,Angl3,Angl4,CAngl],'Data_2DHisto/2D_Histo_Data_OriginalTimeStep.txt')         "
     ],
     "language": "python",
     "metadata": {},
     "outputs": [
      {
       "output_type": "stream",
       "stream": "stdout",
       "text": [
        "Write Data_2DHisto/2D_Histo_Data.txt\n",
        "Write Data_2DHisto/2D_Histo_Data_OriginalTimeStep.txt"
       ]
      },
      {
       "output_type": "stream",
       "stream": "stdout",
       "text": [
        "\n"
       ]
      }
     ],
     "prompt_number": 26
    },
    {
     "cell_type": "code",
     "collapsed": false,
     "input": [
      "if DO_Track:\n",
      "    J_rand = F.Get_Random_J(Pr_J,Pr_Npart)\n",
      "    Pos_Acr_ID = F.Neg_Mass_Status(Pr_Npart,Crit = 1.01)\n",
      "    #print Pos_Acr_ID\n",
      "    Pr_J_NNA = Pr_J[:,Pos_Acr_ID[0]]\n",
      "    Pr_Npart_NNA = Pr_Npart[:,Pos_Acr_ID[0]]\n",
      "    Pr_Jr_NNA = J_rand[:,Pos_Acr_ID[0]]\n",
      "    #Status2 = np.all(Status[10:122], axis= 0)\n",
      "    #print len(np.where(Status2)[0])"
     ],
     "language": "python",
     "metadata": {},
     "outputs": [],
     "prompt_number": 10
    },
    {
     "cell_type": "code",
     "collapsed": false,
     "input": [
      "#import Functions_2 as F\n",
      "if DO_Track:\n",
      "    for first_snap in Track_Snap:\n",
      "        F.Abs_ChangeJ_Full(Pr_J,J_rand,Pr_Npart,first_snap,time,Jump2Mill = False,Cosmic_Web = -1, Web = [],WebID = -2,ExtraName = '')\n",
      "        F.Abs_ChangeJ_Full(Pr_J_NNA,Pr_Jr_NNA,Pr_Npart_NNA,first_snap,time,Jump2Mill = False,Cosmic_Web = -1, Web = [],WebID = -2,ExtraName = 'NNA')\n"
     ],
     "language": "python",
     "metadata": {},
     "outputs": [
      {
       "output_type": "stream",
       "stream": "stdout",
       "text": [
        "8.59195113855 1.0 1.0\t1.0\t1.0\t1.0\t1.0\t\n",
        "8.49558140912"
       ]
      },
      {
       "output_type": "stream",
       "stream": "stdout",
       "text": [
        " 0.995049691786 0.994305523296\t0.996209259867\t0.996679699199\t0.996768000165\t0.996250105755\t\n",
        "8.3989656736"
       ]
      },
      {
       "output_type": "stream",
       "stream": "stdout",
       "text": [
        " 0.988672820083 0.987846174034\t0.990288364241\t0.990181684183\t0.989347677203\t0.988971335618\t\n",
        "8.30211866868"
       ]
      },
      {
       "output_type": "stream",
       "stream": "stdout",
       "text": [
        " 0.980498269262 0.979817370292\t0.982213749431\t0.981476093082\t0.979088603415\t0.978059029488\t\n",
        "8.20505496047"
       ]
      },
      {
       "output_type": "stream",
       "stream": "stdout",
       "text": [
        " 0.970998866485 0.970675184851\t0.972363543897\t0.970518845795\t0.964836080107\t0.966466045279\t\n",
        "8.10778893947"
       ]
      },
      {
       "output_type": "stream",
       "stream": "stdout",
       "text": [
        " 0.960239373307 0.960509478487\t0.960913390176\t0.956823429695\t0.950204487249\t0.95291418357\t\n",
        "8.01033481579"
       ]
      },
      {
       "output_type": "stream",
       "stream": "stdout",
       "text": [
        " 0.948618849265 0.949329714469\t0.948864275348\t0.943025897897\t0.936353389124\t0.936883218219\t\n",
        "7.81491817056"
       ]
      },
      {
       "output_type": "stream",
       "stream": "stdout",
       "text": [
        " 0.92356122435 0.926089180484\t0.920789518014\t0.913075917704\t0.901459437216\t0.907510745297\t\n",
        "7.71698312549"
       ]
      },
      {
       "output_type": "stream",
       "stream": "stdout",
       "text": [
        " 0.910697156563 0.913952852476\t0.906835434085\t0.89672944845\t0.88113726279\t0.899894866234\t\n",
        "7.6189149221"
       ]
      },
      {
       "output_type": "stream",
       "stream": "stdout",
       "text": [
        " 0.897700105241 0.901576798921\t0.892925884353\t0.880807135645\t0.863017054898\t0.878417351666\t\n",
        "7.52072680105"
       ]
      },
      {
       "output_type": "stream",
       "stream": "stdout",
       "text": [
        " 0.885256599456 0.890361156004\t0.878894515499\t0.863351002037\t0.849304938778\t0.848323295698\t\n",
        "7.42243179691"
       ]
      },
      {
       "output_type": "stream",
       "stream": "stdout",
       "text": [
        " 0.873069041803 0.878580540982\t0.866379390049\t0.845949519048\t0.832378441789\t0.824556094253\t\n",
        "7.32404273465"
       ]
      },
      {
       "output_type": "stream",
       "stream": "stdout",
       "text": [
        " 0.8620619079 0.867928805565\t0.854841687471\t0.830853272329\t0.81740070135\t0.805328910108\t\n",
        "7.25840400896"
       ]
      },
      {
       "output_type": "stream",
       "stream": "stdout",
       "text": [
        " 0.854683110698 0.861410492755\t0.846718137932\t0.821474218525\t0.804257234193\t0.783672912907\t\n",
        "7.15988610323"
       ]
      },
      {
       "output_type": "stream",
       "stream": "stdout",
       "text": [
        " 0.845168945297 0.852668072059\t0.837141780529\t0.809076787365\t0.786545865106\t0.75742394001\t\n",
        "7.06130728981"
       ]
      },
      {
       "output_type": "stream",
       "stream": "stdout",
       "text": [
        " 0.83742655344 0.845712211125\t0.828097474605\t0.795614821784\t0.779750049914\t0.752475095583\t\n",
        "6.96267959829"
       ]
      },
      {
       "output_type": "stream",
       "stream": "stdout",
       "text": [
        " 0.830397952234 0.839228271515\t0.820055960771\t0.787316963505\t0.7645577546\t0.746110485736\t\n",
        "6.86401483521"
       ]
      },
      {
       "output_type": "stream",
       "stream": "stdout",
       "text": [
        " 0.823426744977 0.832756177916\t0.812336375436\t0.777587714755\t0.749809483586\t0.757562249054\t\n",
        "6.76532458176"
       ]
      },
      {
       "output_type": "stream",
       "stream": "stdout",
       "text": [
        " 0.817213171537 0.827550575228\t0.805201835014\t0.77133002374\t0.744234013974\t0.765791754379\t\n",
        "6.66662019196"
       ]
      },
      {
       "output_type": "stream",
       "stream": "stdout",
       "text": [
        " 0.811973080536 0.822228325597\t0.798455718732\t0.764179277862\t0.735421460551\t0.747458311207\t\n",
        "6.56791279093"
       ]
      },
      {
       "output_type": "stream",
       "stream": "stdout",
       "text": [
        " 0.806875747202 0.817258173146\t0.792972815564\t0.757629589235\t0.724390132587\t0.727150638503\t\n",
        "6.46921327353"
       ]
      },
      {
       "output_type": "stream",
       "stream": "stdout",
       "text": [
        " 0.802291502652 0.813443096032\t0.788842399566\t0.751382116645\t0.716396481445\t0.708842854116\t\n",
        "6.37053230317"
       ]
      },
      {
       "output_type": "stream",
       "stream": "stdout",
       "text": [
        " 0.797860799916 0.809279774701\t0.78301384205\t0.74472155093\t0.710001985758\t0.718258996714\t\n",
        "6.27188031094"
       ]
      },
      {
       "output_type": "stream",
       "stream": "stdout",
       "text": [
        " 0.793583490566 0.805543243977\t0.779026501429\t0.739269563143\t0.705635441612\t0.705547103622\t\n",
        "6.17326749493"
       ]
      },
      {
       "output_type": "stream",
       "stream": "stdout",
       "text": [
        " 0.789651421546 0.802672011316\t0.771706985907\t0.735541736246\t0.696982930783\t0.680346418967\t\n",
        "6.07470381988"
       ]
      },
      {
       "output_type": "stream",
       "stream": "stdout",
       "text": [
        " 0.786158092461 0.799504420805\t0.767828338448\t0.730647822379\t0.687696111645\t0.680239876172\t\n",
        "5.97619901696"
       ]
      },
      {
       "output_type": "stream",
       "stream": "stdout",
       "text": [
        " 0.783440861762 0.797189009742\t0.763299864653\t0.724138447236\t0.686628983493\t0.675578824976\t\n",
        "5.87776258392"
       ]
      },
      {
       "output_type": "stream",
       "stream": "stdout",
       "text": [
        " 0.77981329806 0.794216824196\t0.759570316411\t0.719288617921\t0.683295365318\t0.654492608769\t\n",
        "5.77940378534"
       ]
      },
      {
       "output_type": "stream",
       "stream": "stdout",
       "text": [
        " 0.776716455778 0.791538116576\t0.755521909214\t0.714196552678\t0.681774256034\t0.649267769598\t\n",
        "5.68113165319"
       ]
      },
      {
       "output_type": "stream",
       "stream": "stdout",
       "text": [
        " 0.773122071326 0.788394897421\t0.750788032048\t0.709306106824\t0.671338835136\t0.635939658308\t\n",
        "5.58295498758"
       ]
      },
      {
       "output_type": "stream",
       "stream": "stdout",
       "text": [
        " 0.770368097179 0.785540129182\t0.746389592158\t0.701030281118\t0.665063649451\t0.628609889826\t\n",
        "5.48488235773"
       ]
      },
      {
       "output_type": "stream",
       "stream": "stdout",
       "text": [
        " 0.76662691867 0.783023603762\t0.741486206997\t0.696318978462\t0.660987107062\t0.607902293511\t\n",
        "5.38692210313"
       ]
      },
      {
       "output_type": "stream",
       "stream": "stdout",
       "text": [
        " 0.763606440408 0.780393408863\t0.737488882482\t0.691318416658\t0.656037775531\t0.616631203902\t\n",
        "5.2890823349"
       ]
      },
      {
       "output_type": "stream",
       "stream": "stdout",
       "text": [
        " 0.760273901123 0.777916045031\t0.732959473603\t0.684064062763\t0.655430951929\t0.580265470166\t\n",
        "5.19137093735"
       ]
      },
      {
       "output_type": "stream",
       "stream": "stdout",
       "text": [
        " 0.75671197272 0.774894682338\t0.728988627688\t0.680205171393\t0.652450605214\t0.557721398126\t\n",
        "5.09379556968"
       ]
      },
      {
       "output_type": "stream",
       "stream": "stdout",
       "text": [
        " 0.754343896387 0.772539415403\t0.726725815422\t0.678146275129\t0.644715172708\t0.581671599347\t\n",
        "4.99636366791"
       ]
      },
      {
       "output_type": "stream",
       "stream": "stdout",
       "text": [
        " 0.751179196326 0.769877319981\t0.721661882599\t0.674109469544\t0.640515859702\t0.563989469478\t\n",
        "4.89908244692"
       ]
      },
      {
       "output_type": "stream",
       "stream": "stdout",
       "text": [
        " 0.748480376025 0.768025014285\t0.718166370454\t0.668766063984\t0.630176164638\t0.569894304522\t\n",
        "4.80195890264"
       ]
      },
      {
       "output_type": "stream",
       "stream": "stdout",
       "text": [
        " 0.745582893121 0.764791097272\t0.714604910663\t0.662635543178\t0.627629104544\t0.581110001274\t\n",
        "4.70499981446"
       ]
      },
      {
       "output_type": "stream",
       "stream": "stdout",
       "text": [
        " 0.74248818716 0.76307524929\t0.709579670328\t0.656196474154\t0.618921762853\t0.60069333542\t\n",
        "4.60821174766"
       ]
      },
      {
       "output_type": "stream",
       "stream": "stdout",
       "text": [
        " 0.739073791052 0.759867887973\t0.70606624386\t0.653072731253\t0.6179404753\t0.632665635663\t\n",
        "4.51160105602"
       ]
      },
      {
       "output_type": "stream",
       "stream": "stdout",
       "text": [
        " 0.735708980309 0.757181740342\t0.702770925781\t0.64849898675\t0.610558246624\t0.640204255329\t\n",
        "4.41517388462"
       ]
      },
      {
       "output_type": "stream",
       "stream": "stdout",
       "text": [
        " 0.733339469479 0.755167755922\t0.698402598192\t0.642706980405\t0.598594706802\t0.637745399339\t\n",
        "4.31893617258"
       ]
      },
      {
       "output_type": "stream",
       "stream": "stdout",
       "text": [
        " 0.730828735961 0.752887392834\t0.695344309732\t0.638748413253\t0.587625099853\t0.635066353323\t\n",
        "4.22289365608"
       ]
      },
      {
       "output_type": "stream",
       "stream": "stdout",
       "text": [
        " 0.727260682583 0.749873241569\t0.692167221241\t0.634910210447\t0.587405639127\t0.646973930113\t\n",
        "4.12705187134"
       ]
      },
      {
       "output_type": "stream",
       "stream": "stdout",
       "text": [
        " 0.724735155558 0.747528926037\t0.689035945176\t0.631160975722\t0.586271180288\t0.659523879619\t\n",
        "4.03141615774"
       ]
      },
      {
       "output_type": "stream",
       "stream": "stdout",
       "text": [
        " 0.721582097811 0.744115928365\t0.684844437358\t0.62690194956\t0.576487047256\t0.669134770657\t\n",
        "3.93599166101"
       ]
      },
      {
       "output_type": "stream",
       "stream": "stdout",
       "text": [
        " 0.718335159796 0.74055354814\t0.681887029265\t0.623900973967\t0.584589055816\t0.656436406551\t\n",
        "3.84078333648"
       ]
      },
      {
       "output_type": "stream",
       "stream": "stdout",
       "text": [
        " 0.715882673109 0.738596483778\t0.679306271337\t0.620009523693\t0.582737384671\t0.664141746769\t\n",
        "3.7457959524"
       ]
      },
      {
       "output_type": "stream",
       "stream": "stdout",
       "text": [
        " 0.712623399808 0.736176016541\t0.675088679111\t0.614973588956\t0.581117735845\t0.656866245471\t\n",
        "3.65103409329"
       ]
      },
      {
       "output_type": "stream",
       "stream": "stdout",
       "text": [
        " 0.709646366886 0.733556451036\t0.671960041309\t0.613111907754\t0.58246925518\t0.682301631944\t\n",
        "3.55650216334"
       ]
      },
      {
       "output_type": "stream",
       "stream": "stdout",
       "text": [
        " 0.706666440797 0.73074331582\t0.669362891539\t0.602663973765\t0.569370133414\t0.682350685214\t\n",
        "3.46220438988"
       ]
      },
      {
       "output_type": "stream",
       "stream": "stdout",
       "text": [
        " 0.702854537941 0.727598676529\t0.664328492347\t0.596849487324\t0.565886782001\t0.659191953943\t\n",
        "3.36814482684"
       ]
      },
      {
       "output_type": "stream",
       "stream": "stdout",
       "text": [
        " 0.700340774062 0.724807054238\t0.661486423735\t0.593258482248\t0.565826002889\t0.644194663407\t\n",
        "3.27432735828"
       ]
      },
      {
       "output_type": "stream",
       "stream": "stdout",
       "text": [
        " 0.697490123909 0.721791297147\t0.65786306302\t0.591216754518\t0.569970082242\t0.616541322864\t\n",
        "3.18075570184"
       ]
      },
      {
       "output_type": "stream",
       "stream": "stdout",
       "text": [
        " 0.694612715499 0.718996615336\t0.656396435941\t0.588155921102\t0.570482662256\t0.645773268526\t\n",
        "3.08743341235"
       ]
      },
      {
       "output_type": "stream",
       "stream": "stdout",
       "text": [
        " 0.691511060773 0.716537269843\t0.651859887425\t0.585749669093\t0.569196963436\t0.637331460584\t\n",
        "2.99436388534"
       ]
      },
      {
       "output_type": "stream",
       "stream": "stdout",
       "text": [
        " 0.68879673213 0.713727852728\t0.648214636288\t0.587215538977\t0.559593375795\t0.620908303822\t\n",
        "2.90155036057"
       ]
      },
      {
       "output_type": "stream",
       "stream": "stdout",
       "text": [
        " 0.685173328079 0.711074292398\t0.644386065137\t0.583290572742\t0.559866431031\t0.619753035759\t\n",
        "2.80899592559"
       ]
      },
      {
       "output_type": "stream",
       "stream": "stdout",
       "text": [
        " 0.682423005811 0.70785740143\t0.64122953738\t0.579725561504\t0.559072860115\t0.61256861308\t\n",
        "2.76281679087"
       ]
      },
      {
       "output_type": "stream",
       "stream": "stdout",
       "text": [
        " 0.681138065564 0.707339128674\t0.640207142679\t0.577414417776\t0.55857792974\t0.612550645984\t\n",
        "2.71670351924"
       ]
      },
      {
       "output_type": "stream",
       "stream": "stdout",
       "text": [
        " 0.679292069584 0.705304211217\t0.637592469019\t0.574463268488\t0.556604350968\t0.606854240728\t\n",
        "2.6706564554"
       ]
      },
      {
       "output_type": "stream",
       "stream": "stdout",
       "text": [
        " 0.677779316778 0.703971880804\t0.635904964293\t0.570589081276\t0.556197672373\t0.600366509409\t\n",
        "2.62467593521"
       ]
      },
      {
       "output_type": "stream",
       "stream": "stdout",
       "text": [
        " 0.676917540368 0.702147677766\t0.634406064374\t0.570214778647\t0.552688024422\t0.598721200878\t\n",
        "2.57876228576"
       ]
      },
      {
       "output_type": "stream",
       "stream": "stdout",
       "text": [
        " 0.675550911197 0.700868515072\t0.63302835111\t0.56927255976\t0.560098506339\t0.587896033074\t\n",
        "2.53291582553"
       ]
      },
      {
       "output_type": "stream",
       "stream": "stdout",
       "text": [
        " 0.674036011816 0.700255698951\t0.630963251073\t0.568251654431\t0.550250498093\t0.571645719863\t\n",
        "2.48713686444"
       ]
      },
      {
       "output_type": "stream",
       "stream": "stdout",
       "text": [
        " 0.672944297066 0.698723826398\t0.628935562235\t0.56668769866\t0.548665038504\t0.578067004492\t\n",
        "2.44142570401"
       ]
      },
      {
       "output_type": "stream",
       "stream": "stdout",
       "text": [
        " 0.671737933053 0.698129714004\t0.626602641043\t0.567159134358\t0.545577681602\t0.563757800351\t\n",
        "2.39578263746"
       ]
      },
      {
       "output_type": "stream",
       "stream": "stderr",
       "text": [
        "Functions.py:271: RuntimeWarning: invalid value encountered in arccos\n",
        "  Dir3 = np.arccos(Dir1)/np.arccos(Dir1r)\n",
        "Functions.py:271: RuntimeWarning: divide by zero encountered in divide\n",
        "  Dir3 = np.arccos(Dir1)/np.arccos(Dir1r)\n",
        "Functions.py:271: RuntimeWarning: invalid value encountered in divide\n",
        "  Dir3 = np.arccos(Dir1)/np.arccos(Dir1r)\n",
        "Functions.py:282: RuntimeWarning: invalid value encountered in divide\n",
        "  Dir2 = np.einsum('ij,ij->i',V_diff1,V_diff2)/np.sqrt(Mod_diff1*Mod_diff2)\n"
       ]
      },
      {
       "output_type": "stream",
       "stream": "stdout",
       "text": [
        " 0.670267340005 0.696808029911\t0.624683569465\t0.563311928146\t0.540392705842\t0.547835325469\t\n",
        "2.35020794978"
       ]
      },
      {
       "output_type": "stream",
       "stream": "stdout",
       "text": [
        " 0.669155715904 0.695521058416\t0.62388421202\t0.560691313048\t0.534341379895\t0.533440322701\t\n",
        "2.30470191787"
       ]
      },
      {
       "output_type": "stream",
       "stream": "stdout",
       "text": [
        " 0.668267647613 0.69449852344\t0.622973746579\t0.558791860291\t0.528566326117\t0.531647340843\t\n",
        "2.25926481063"
       ]
      },
      {
       "output_type": "stream",
       "stream": "stdout",
       "text": [
        " 0.666517251366 0.693630403079\t0.620243087068\t0.558864855606\t0.530401769386\t0.541939314055\t\n",
        "2.21389688909"
       ]
      },
      {
       "output_type": "stream",
       "stream": "stdout",
       "text": [
        " 0.665148665411 0.692832933262\t0.618773138315\t0.556243404373\t0.525786319859\t0.545549557039\t\n",
        "2.16859840647"
       ]
      },
      {
       "output_type": "stream",
       "stream": "stdout",
       "text": [
        " 0.663318940642 0.691305086627\t0.616153384151\t0.553366987515\t0.525115065155\t0.52818012929\t\n",
        "2.12336960835"
       ]
      },
      {
       "output_type": "stream",
       "stream": "stdout",
       "text": [
        " 0.661563886106 0.689719985917\t0.615748627208\t0.552339535836\t0.519451454118\t0.514520525327\t\n",
        "2.0782107327"
       ]
      },
      {
       "output_type": "stream",
       "stream": "stdout",
       "text": [
        " 0.660670446862 0.689223080574\t0.613587299142\t0.547841275405\t0.519454324851\t0.5282215959\t\n",
        "2.03312201003"
       ]
      },
      {
       "output_type": "stream",
       "stream": "stdout",
       "text": [
        " 0.658588267308 0.687211047328\t0.611287821853\t0.549135526639\t0.515488223105\t0.533024481409\t\n",
        "1.98810366348"
       ]
      },
      {
       "output_type": "stream",
       "stream": "stdout",
       "text": [
        " 0.657185488616 0.685766838988\t0.609344432286\t0.544763319143\t0.519450150932\t0.520780238928\t\n",
        "1.94315590893"
       ]
      },
      {
       "output_type": "stream",
       "stream": "stdout",
       "text": [
        " 0.655450569529 0.684198067341\t0.609454708889\t0.542342570795\t0.511196069128\t0.522877892891\t\n",
        "1.89827895508"
       ]
      },
      {
       "output_type": "stream",
       "stream": "stdout",
       "text": [
        " 0.654492838002 0.683159528459\t0.60828574202\t0.543072017838\t0.508454897941\t0.504437904666\t\n",
        "1.85347300359"
       ]
      },
      {
       "output_type": "stream",
       "stream": "stdout",
       "text": [
        " 0.652785502334 0.682254554224\t0.604635801006\t0.539756270501\t0.508411900067\t0.506226646535\t\n",
        "1.80873824913"
       ]
      },
      {
       "output_type": "stream",
       "stream": "stdout",
       "text": [
        " 0.651944954604 0.681384348052\t0.60443027154\t0.537403761953\t0.502020746633\t0.484182318024\t\n",
        "1.7640748795"
       ]
      },
      {
       "output_type": "stream",
       "stream": "stdout",
       "text": [
        " 0.65071436016 0.679284350478\t0.602182550947\t0.537537357174\t0.509135346841\t0.48951498704\t\n",
        "1.71948307576"
       ]
      },
      {
       "output_type": "stream",
       "stream": "stdout",
       "text": [
        " 0.648450591537 0.677862218933\t0.601553946302\t0.53493511691\t0.503182260312\t0.477832068073\t\n",
        "1.67496301227"
       ]
      },
      {
       "output_type": "stream",
       "stream": "stdout",
       "text": [
        " 0.647600342291 0.676716324773\t0.598628188592\t0.533386292012\t0.504401251258\t0.474072869293\t\n",
        "1.63051485685"
       ]
      },
      {
       "output_type": "stream",
       "stream": "stdout",
       "text": [
        " 0.64640809162 0.675726141405\t0.59672834862\t0.532809066104\t0.501868445855\t0.475778153144\t\n",
        "1.5861387708"
       ]
      },
      {
       "output_type": "stream",
       "stream": "stdout",
       "text": [
        " 0.645417354212 0.674203691016\t0.595129462516\t0.530105679571\t0.50160742687\t0.47284795594\t\n",
        "1.54183490908"
       ]
      },
      {
       "output_type": "stream",
       "stream": "stdout",
       "text": [
        " 0.643059812211 0.67325942798\t0.592624307528\t0.526533888566\t0.492179475038\t0.489018058336\t\n",
        "1.49760342033"
       ]
      },
      {
       "output_type": "stream",
       "stream": "stdout",
       "text": [
        " 0.642257713621 0.672450468294\t0.591816163488\t0.526330239405\t0.485824132063\t0.488316067651\t\n",
        "1.45344444702"
       ]
      },
      {
       "output_type": "stream",
       "stream": "stdout",
       "text": [
        " 0.641217449657 0.67101446961\t0.589902383539\t0.52319512027\t0.484362786196\t0.487244991012\t\n",
        "1.40935812551"
       ]
      },
      {
       "output_type": "stream",
       "stream": "stdout",
       "text": [
        " 0.639048975287 0.66935175114\t0.586695806909\t0.519305552209\t0.486632707706\t0.485756522894\t\n",
        "1.36534458615"
       ]
      },
      {
       "output_type": "stream",
       "stream": "stdout",
       "text": [
        " 0.637698439787 0.667622904617\t0.586697942397\t0.518100947188\t0.48369950244\t0.482875310245\t\n",
        "1.32140395339"
       ]
      },
      {
       "output_type": "stream",
       "stream": "stdout",
       "text": [
        " 0.635864822734 0.666280368811\t0.583802318811\t0.515983446234\t0.488820867947\t0.467790851018\t\n",
        "1.27753634583"
       ]
      },
      {
       "output_type": "stream",
       "stream": "stdout",
       "text": [
        " 0.634543311136 0.665653465905\t0.582609958611\t0.515491750414\t0.485409672916\t0.463150326545\t\n",
        "1.23374187635"
       ]
      },
      {
       "output_type": "stream",
       "stream": "stdout",
       "text": [
        " 0.633670836953 0.664395975232\t0.580365995238\t0.516492230547\t0.485139979764\t0.463849490383\t\n",
        "1.19002065219"
       ]
      },
      {
       "output_type": "stream",
       "stream": "stdout",
       "text": [
        " 0.632794301109 0.663034198946\t0.579643164414\t0.513477427581\t0.479656118162\t0.462930124076\t\n",
        "1.146372775"
       ]
      },
      {
       "output_type": "stream",
       "stream": "stdout",
       "text": [
        " 0.631203320117 0.662024588161\t0.578357440099\t0.513559328047\t0.484622289391\t0.467229130101\t\n",
        "1.102798341"
       ]
      },
      {
       "output_type": "stream",
       "stream": "stdout",
       "text": [
        " 0.62995855665 0.66060134764\t0.575553571724\t0.507594766913\t0.476030540327\t0.460248631088\t\n",
        "1.05929744099"
       ]
      },
      {
       "output_type": "stream",
       "stream": "stdout",
       "text": [
        " 0.628676003917 0.659631873936\t0.574948613323\t0.506012786095\t0.472754296046\t0.46613380028\t\n",
        "1.01587016049"
       ]
      },
      {
       "output_type": "stream",
       "stream": "stdout",
       "text": [
        " 0.62656554044 0.657889346962\t0.574260828404\t0.506315210014\t0.473826557123\t0.450605250481\t\n",
        "0.972516579813"
       ]
      },
      {
       "output_type": "stream",
       "stream": "stdout",
       "text": [
        " 0.625441773212 0.657241207345\t0.571913908563\t0.501150751332\t0.471287237021\t0.451819527039\t\n",
        "0.929236774117"
       ]
      },
      {
       "output_type": "stream",
       "stream": "stdout",
       "text": [
        " 0.624324998298 0.655210640069\t0.569476806079\t0.499204097549\t0.471921979298\t0.452719028064\t\n",
        "0.88603081353"
       ]
      },
      {
       "output_type": "stream",
       "stream": "stdout",
       "text": [
        " 0.622759234488 0.654210067086\t0.56805748504\t0.493092057447\t0.465038037117\t0.454131285721\t\n",
        "0.799840683432"
       ]
      },
      {
       "output_type": "stream",
       "stream": "stdout",
       "text": [
        " 0.620339897613 0.652272990885\t0.566079134802\t0.495177807354\t0.456944813492\t0.453481389108\t\n",
        "0.756856629666"
       ]
      },
      {
       "output_type": "stream",
       "stream": "stdout",
       "text": [
        " 0.618734979458 0.650549671156\t0.564251191731\t0.497551509887\t0.455826569718\t0.455396229516\t\n",
        "0.713946652661"
       ]
      },
      {
       "output_type": "stream",
       "stream": "stdout",
       "text": [
        " 0.617068499822 0.648988927968\t0.562736344436\t0.494525600021\t0.456158341335\t0.452573387856\t\n",
        "0.671110798517"
       ]
      },
      {
       "output_type": "stream",
       "stream": "stdout",
       "text": [
        " 0.615547783956 0.64741718695\t0.56008254223\t0.492385167224\t0.458324959329\t0.446897281569\t\n",
        "0.585661620467"
       ]
      },
      {
       "output_type": "stream",
       "stream": "stdout",
       "text": [
        " 0.613165217345 0.645647382161\t0.558835589755\t0.485412923427\t0.452079731212\t0.451540652486\t\n",
        "0.543048366236"
       ]
      },
      {
       "output_type": "stream",
       "stream": "stdout",
       "text": [
        " 0.61250095158 0.644493451129\t0.557902686641\t0.488794177611\t0.455832087908\t0.45291596301\t\n",
        "0.50050937437"
       ]
      },
      {
       "output_type": "stream",
       "stream": "stdout",
       "text": [
        " 0.610942234171 0.643341852242\t0.556354978214\t0.487322791732\t0.449277474014\t0.455690563243\t\n",
        "0.458044668897"
       ]
      },
      {
       "output_type": "stream",
       "stream": "stdout",
       "text": [
        " 0.609230193375 0.642318082403\t0.553734632325\t0.484400247411\t0.448522278623\t0.453153943109\t\n",
        "0.415654269654"
       ]
      },
      {
       "output_type": "stream",
       "stream": "stdout",
       "text": [
        " 0.607961701146 0.640994759084\t0.554308691713\t0.479262939429\t0.453713329388\t0.459159265365\t\n",
        "0.373338192361"
       ]
      },
      {
       "output_type": "stream",
       "stream": "stdout",
       "text": [
        " 0.607297327766 0.640016286338\t0.552677893994\t0.480089408471\t0.455777715858\t0.440856042253\t\n",
        "0.331096448691"
       ]
      },
      {
       "output_type": "stream",
       "stream": "stdout",
       "text": [
        " 0.606053937923 0.638854688623\t0.550639321236\t0.478134166599\t0.449769124523\t0.43818567955\t\n",
        "0.288929046341"
       ]
      },
      {
       "output_type": "stream",
       "stream": "stdout",
       "text": [
        " 0.604962435689 0.637734262607\t0.549553340477\t0.476099109814\t0.440830383104\t0.440737969614\t\n",
        "0.246835989105"
       ]
      },
      {
       "output_type": "stream",
       "stream": "stdout",
       "text": [
        " 0.603316613544 0.635833669699\t0.548933206611\t0.472371860927\t0.436490975771\t0.43644512141\t\n",
        "0.204817276939"
       ]
      },
      {
       "output_type": "stream",
       "stream": "stdout",
       "text": [
        " 0.602245996562 0.6346147141\t0.547934781517\t0.471376967141\t0.431511919986\t0.391870719774\t\n",
        "0.162872906035"
       ]
      },
      {
       "output_type": "stream",
       "stream": "stdout",
       "text": [
        " 0.60022699122 0.633652426963\t0.545080156823\t0.470064598529\t0.427747476546\t0.419463567792\t\n",
        "0.121002868884"
       ]
      },
      {
       "output_type": "stream",
       "stream": "stdout",
       "text": [
        " 0.60001244441 0.633290168244\t0.54451681128\t0.471072989394\t0.434636758244\t0.43338523059\t\n",
        "0.0792071543417"
       ]
      },
      {
       "output_type": "stream",
       "stream": "stdout",
       "text": [
        " 0.598193503139 0.631599764462\t0.542939009795\t0.471179197988\t0.43187128305\t0.434925571429\t\n",
        "0.0374857477009"
       ]
      },
      {
       "output_type": "stream",
       "stream": "stdout",
       "text": [
        " 0.59727461349 0.631565162021\t0.541541239627\t0.469159219975\t0.432688884545\t0.439461263265\t\n",
        "0.0"
       ]
      },
      {
       "output_type": "stream",
       "stream": "stdout",
       "text": [
        " 0.596039504634 0.630000496329\t0.540663144629\t0.470365242897\t0.432809639635\t0.44333746419\t\n",
        "8.59195113855"
       ]
      },
      {
       "output_type": "stream",
       "stream": "stdout",
       "text": [
        " 1.0 1.0\t1.0\t1.0\t1.0\t1.0\t\n",
        "8.49558140912"
       ]
      },
      {
       "output_type": "stream",
       "stream": "stdout",
       "text": [
        " 0.995189115757 0.994463450516\t0.996295495534\t0.996759284054\t0.996780816095\t0.99620710891\t\n",
        "8.3989656736"
       ]
      },
      {
       "output_type": "stream",
       "stream": "stdout",
       "text": [
        " 0.988980503145 0.988165770381\t0.990539222165\t0.99035409941\t0.989337976573\t0.98874627258\t\n",
        "8.30211866868"
       ]
      },
      {
       "output_type": "stream",
       "stream": "stdout",
       "text": [
        " 0.98096322345 0.980295818889\t0.982640341194\t0.981882548232\t0.979424138456\t0.97773351743\t\n",
        "8.20505496047"
       ]
      },
      {
       "output_type": "stream",
       "stream": "stdout",
       "text": [
        " 0.971596748031 0.971268278328\t0.972972890533\t0.971025619883\t0.965245241975\t0.966113569785\t\n",
        "8.10778893947"
       ]
      },
      {
       "output_type": "stream",
       "stream": "stdout",
       "text": [
        " 0.96102099032 0.961382996826\t0.961659970108\t0.957248421657\t0.950815825785\t0.952869449257\t\n",
        "8.01033481579"
       ]
      },
      {
       "output_type": "stream",
       "stream": "stdout",
       "text": [
        " 0.949470437168 0.950267753893\t0.949735596494\t0.943708433757\t0.936566891143\t0.936856429859\t\n",
        "7.81491817056"
       ]
      },
      {
       "output_type": "stream",
       "stream": "stdout",
       "text": [
        " 0.924678714264 0.927295725266\t0.921740216406\t0.914277775316\t0.902155031839\t0.906637552402\t\n",
        "7.71698312549"
       ]
      },
      {
       "output_type": "stream",
       "stream": "stdout",
       "text": [
        " 0.911866691166 0.915045716006\t0.9081411144\t0.898116027975\t0.882270035334\t0.899168401698\t\n",
        "7.6189149221"
       ]
      },
      {
       "output_type": "stream",
       "stream": "stdout",
       "text": [
        " 0.898691082932 0.902740881361\t0.894220939593\t0.882457237049\t0.864621012908\t0.876064076471\t\n",
        "7.52072680105"
       ]
      },
      {
       "output_type": "stream",
       "stream": "stdout",
       "text": [
        " 0.886264446299 0.891435568393\t0.879823222684\t0.864729318966\t0.851021631056\t0.847722499654\t\n",
        "7.42243179691"
       ]
      },
      {
       "output_type": "stream",
       "stream": "stdout",
       "text": [
        " 0.874048218946 0.879857903312\t0.867426682491\t0.846961165002\t0.834300459171\t0.824548890837\t\n",
        "7.32404273465"
       ]
      },
      {
       "output_type": "stream",
       "stream": "stdout",
       "text": [
        " 0.86299998494 0.869187784847\t0.855686645053\t0.831802214386\t0.819225472906\t0.804486766528\t\n",
        "7.25840400896"
       ]
      },
      {
       "output_type": "stream",
       "stream": "stdout",
       "text": [
        " 0.855532502303 0.862422110399\t0.847478948096\t0.822692343831\t0.805673607975\t0.782016095988\t\n",
        "7.15988610323"
       ]
      },
      {
       "output_type": "stream",
       "stream": "stdout",
       "text": [
        " 0.845899332258 0.85364588517\t0.837936428326\t0.81025781112\t0.789315785536\t0.757590440775\t\n",
        "7.06130728981"
       ]
      },
      {
       "output_type": "stream",
       "stream": "stdout",
       "text": [
        " 0.837902244143 0.846408221162\t0.828669274984\t0.797668300436\t0.779498926146\t0.752691440624\t\n",
        "6.96267959829"
       ]
      },
      {
       "output_type": "stream",
       "stream": "stdout",
       "text": [
        " 0.830985169015 0.839965832048\t0.820391727246\t0.788401839093\t0.764271296961\t0.746232770987\t\n",
        "6.86401483521"
       ]
      },
      {
       "output_type": "stream",
       "stream": "stdout",
       "text": [
        " 0.824015462546 0.83376062617\t0.812880100478\t0.779167558365\t0.749195906633\t0.758535488314\t\n",
        "6.76532458176"
       ]
      },
      {
       "output_type": "stream",
       "stream": "stdout",
       "text": [
        " 0.817989686224 0.828633616251\t0.805605736117\t0.772755580565\t0.743481658335\t0.772684436685\t\n",
        "6.66662019196"
       ]
      },
      {
       "output_type": "stream",
       "stream": "stdout",
       "text": [
        " 0.8127198022 0.82335204595\t0.799083499763\t0.765677486084\t0.735242201708\t0.752282989202\t\n",
        "6.56791279093"
       ]
      },
      {
       "output_type": "stream",
       "stream": "stdout",
       "text": [
        " 0.807650186698 0.818390803807\t0.793590882428\t0.759305005744\t0.724390132587\t0.730077719117\t\n",
        "6.46921327353"
       ]
      },
      {
       "output_type": "stream",
       "stream": "stdout",
       "text": [
        " 0.803176660023 0.814612502846\t0.789330332164\t0.752939487194\t0.716704672019\t0.709197204468\t\n",
        "6.37053230317"
       ]
      },
      {
       "output_type": "stream",
       "stream": "stdout",
       "text": [
        " 0.798931606791 0.81077990212\t0.78346958948\t0.747019924441\t0.709379242471\t0.72053538785\t\n",
        "6.27188031094"
       ]
      },
      {
       "output_type": "stream",
       "stream": "stdout",
       "text": [
        " 0.794641997959 0.807053542629\t0.779699942558\t0.740891950285\t0.70540458422\t0.706277012046\t\n",
        "6.17326749493"
       ]
      },
      {
       "output_type": "stream",
       "stream": "stdout",
       "text": [
        " 0.790741703359 0.804082071366\t0.772447015319\t0.737948096716\t0.696250360957\t0.682955939422\t\n",
        "6.07470381988"
       ]
      },
      {
       "output_type": "stream",
       "stream": "stdout",
       "text": [
        " 0.786921568331 0.800795881819\t0.76848537844\t0.733105420031\t0.685735059412\t0.701381432063\t\n",
        "5.97619901696"
       ]
      },
      {
       "output_type": "stream",
       "stream": "stdout",
       "text": [
        " 0.783976729776 0.798260561866\t0.764246169923\t0.726882731288\t0.685754062284\t0.681568380314\t\n",
        "5.87776258392"
       ]
      },
      {
       "output_type": "stream",
       "stream": "stdout",
       "text": [
        " 0.780399557881 0.79493435967\t0.76086993229\t0.722815848793\t0.681677787887\t0.658404034251\t\n",
        "5.77940378534"
       ]
      },
      {
       "output_type": "stream",
       "stream": "stdout",
       "text": [
        " 0.777600757329 0.792582054228\t0.756865102218\t0.716783547978\t0.680377922983\t0.661118963831\t\n",
        "5.68113165319"
       ]
      },
      {
       "output_type": "stream",
       "stream": "stdout",
       "text": [
        " 0.774084993874 0.789417030156\t0.752671244698\t0.712406212826\t0.670389126618\t0.636702235202\t\n",
        "5.58295498758"
       ]
      },
      {
       "output_type": "stream",
       "stream": "stdout",
       "text": [
        " 0.771254677061 0.786567192468\t0.747808363965\t0.705131617956\t0.663624754357\t0.629753902617\t\n",
        "5.48488235773"
       ]
      },
      {
       "output_type": "stream",
       "stream": "stdout",
       "text": [
        " 0.767458483376 0.783958297466\t0.742903686009\t0.700042766998\t0.662360157038\t0.612515913772\t\n",
        "5.38692210313"
       ]
      },
      {
       "output_type": "stream",
       "stream": "stdout",
       "text": [
        " 0.764771347082 0.781597084167\t0.739923453598\t0.69394100808\t0.656810269881\t0.619646850954\t\n",
        "5.2890823349"
       ]
      },
      {
       "output_type": "stream",
       "stream": "stdout",
       "text": [
        " 0.761310221997 0.778907230504\t0.73563711836\t0.687046828689\t0.655971493579\t0.584616912385\t\n",
        "5.19137093735"
       ]
      },
      {
       "output_type": "stream",
       "stream": "stdout",
       "text": [
        " 0.757895516867 0.776107290926\t0.731157716479\t0.685252069186\t0.651875523448\t0.557604582844\t\n",
        "5.09379556968"
       ]
      },
      {
       "output_type": "stream",
       "stream": "stdout",
       "text": [
        " 0.755256370333 0.773640235018\t0.728700622936\t0.682036998676\t0.643655757591\t0.576017641607\t\n",
        "4.99636366791"
       ]
      },
      {
       "output_type": "stream",
       "stream": "stdout",
       "text": [
        " 0.751990184932 0.770775501307\t0.723677719238\t0.678246237553\t0.639613803959\t0.552647672091\t\n",
        "4.89908244692"
       ]
      },
      {
       "output_type": "stream",
       "stream": "stdout",
       "text": [
        " 0.749378206314 0.769042971283\t0.720589638573\t0.673459893182\t0.628494224763\t0.567104186872\t\n",
        "4.80195890264"
       ]
      },
      {
       "output_type": "stream",
       "stream": "stdout",
       "text": [
        " 0.746640258951 0.765762916417\t0.717775995325\t0.666110791339\t0.626266633791\t0.568381293584\t\n",
        "4.70499981446"
       ]
      },
      {
       "output_type": "stream",
       "stream": "stdout",
       "text": [
        " 0.743677908346 0.764279148723\t0.71274183259\t0.660325427194\t0.616377886788\t0.598557752152\t\n",
        "4.60821174766"
       ]
      },
      {
       "output_type": "stream",
       "stream": "stdout",
       "text": [
        " 0.740312067031 0.761033402105\t0.709438059436\t0.657659890837\t0.615913880828\t0.62371179104\t\n",
        "4.51160105602"
       ]
      },
      {
       "output_type": "stream",
       "stream": "stdout",
       "text": [
        " 0.736912110656 0.75812822132\t0.7060542827\t0.652644047527\t0.610264741959\t0.618394884533\t\n",
        "4.41517388462"
       ]
      },
      {
       "output_type": "stream",
       "stream": "stdout",
       "text": [
        " 0.734693463054 0.756140879917\t0.702270738042\t0.648080780584\t0.596853335935\t0.630868935936\t\n",
        "4.31893617258"
       ]
      },
      {
       "output_type": "stream",
       "stream": "stdout",
       "text": [
        " 0.732021977012 0.753872697723\t0.6993318803\t0.643116996087\t0.586361069898\t0.633354166197\t\n",
        "4.22289365608"
       ]
      },
      {
       "output_type": "stream",
       "stream": "stdout",
       "text": [
        " 0.728556891357 0.751183397079\t0.696138214667\t0.639430476654\t0.585192637368\t0.641599508853\t\n",
        "4.12705187134"
       ]
      },
      {
       "output_type": "stream",
       "stream": "stdout",
       "text": [
        " 0.726088907279 0.7485542737\t0.692800686811\t0.635601845961\t0.581280726246\t0.657683138322\t\n",
        "4.03141615774"
       ]
      },
      {
       "output_type": "stream",
       "stream": "stdout",
       "text": [
        " 0.722669870311 0.745189176134\t0.689672429726\t0.630707818353\t0.57301405835\t0.669083150929\t\n",
        "3.93599166101"
       ]
      },
      {
       "output_type": "stream",
       "stream": "stdout",
       "text": [
        " 0.719397766313 0.741428970373\t0.686240974136\t0.629592979337\t0.580571383525\t0.655912055774\t\n",
        "3.84078333648"
       ]
      },
      {
       "output_type": "stream",
       "stream": "stdout",
       "text": [
        " 0.717203609054 0.739486052372\t0.683813030298\t0.624946796725\t0.579156016743\t0.658823215396\t\n",
        "3.7457959524"
       ]
      },
      {
       "output_type": "stream",
       "stream": "stdout",
       "text": [
        " 0.713970879899 0.737097066212\t0.6798967004\t0.621240270508\t0.577839498532\t0.656621312899\t\n",
        "3.65103409329"
       ]
      },
      {
       "output_type": "stream",
       "stream": "stdout",
       "text": [
        " 0.711107124768 0.734585407708\t0.676079206332\t0.618178205275\t0.576693680543\t0.680357332185\t\n",
        "3.55650216334"
       ]
      },
      {
       "output_type": "stream",
       "stream": "stdout",
       "text": [
        " 0.708059310321 0.731930124296\t0.673558224885\t0.608774406268\t0.565831317558\t0.680799564842\t\n",
        "3.46220438988"
       ]
      },
      {
       "output_type": "stream",
       "stream": "stdout",
       "text": [
        " 0.704474384063 0.728741932751\t0.669189492149\t0.603705816161\t0.561932310832\t0.655819697121\t\n",
        "3.36814482684"
       ]
      },
      {
       "output_type": "stream",
       "stream": "stdout",
       "text": [
        " 0.702117671807 0.725988518429\t0.66703249459\t0.599997471501\t0.56413487474\t0.642406889146\t\n",
        "3.27432735828"
       ]
      },
      {
       "output_type": "stream",
       "stream": "stdout",
       "text": [
        " 0.699231169191 0.723019872238\t0.662696014317\t0.59739077885\t0.56728342949\t0.614364761456\t\n",
        "3.18075570184"
       ]
      },
      {
       "output_type": "stream",
       "stream": "stdout",
       "text": [
        " 0.696426458584 0.720292047836\t0.660338951833\t0.596663731078\t0.568068446762\t0.640258765844\t\n",
        "3.08743341235"
       ]
      },
      {
       "output_type": "stream",
       "stream": "stdout",
       "text": [
        " 0.69318682982 0.717731715395\t0.656130729054\t0.593443590829\t0.563958489585\t0.628191355693\t\n",
        "2.99436388534"
       ]
      },
      {
       "output_type": "stream",
       "stream": "stdout",
       "text": [
        " 0.690270814636 0.71526572\t0.652151132918\t0.593598078853\t0.558365010785\t0.616648328892\t\n",
        "2.90155036057"
       ]
      },
      {
       "output_type": "stream",
       "stream": "stdout",
       "text": [
        " 0.686412555659 0.711933718641\t0.647946788104\t0.588907399288\t0.555929581426\t0.612810876887\t\n",
        "2.80899592559"
       ]
      },
      {
       "output_type": "stream",
       "stream": "stdout",
       "text": [
        " 0.683550491426 0.708934211524\t0.645150241811\t0.585916518406\t0.556298202274\t0.610825176936\t\n",
        "2.76281679087"
       ]
      },
      {
       "output_type": "stream",
       "stream": "stdout",
       "text": [
        " 0.682597786515 0.708388746478\t0.643919511271\t0.583944719383\t0.557045717508\t0.611764449081\t\n",
        "2.71670351924"
       ]
      },
      {
       "output_type": "stream",
       "stream": "stdout",
       "text": [
        " 0.680688385616 0.70650251751\t0.64172129903\t0.580519217439\t0.555899439148\t0.60238391928\t\n",
        "2.6706564554"
       ]
      },
      {
       "output_type": "stream",
       "stream": "stdout",
       "text": [
        " 0.679106779994 0.705058056417\t0.640249021217\t0.578269047991\t0.553788622886\t0.598418426722\t\n",
        "2.62467593521"
       ]
      },
      {
       "output_type": "stream",
       "stream": "stdout",
       "text": [
        " 0.67831877842 0.703044627039\t0.6380309061\t0.574601776693\t0.54978027586\t0.597256178523\t\n",
        "2.57876228576"
       ]
      },
      {
       "output_type": "stream",
       "stream": "stdout",
       "text": [
        " 0.676877973134 0.701917213284\t0.636793855788\t0.574574914825\t0.559631510863\t0.582009817712\t\n",
        "2.53291582553"
       ]
      },
      {
       "output_type": "stream",
       "stream": "stdout",
       "text": [
        " 0.67521081212 0.70126266838\t0.634278907591\t0.573074582567\t0.548515188268\t0.569186092994\t\n",
        "2.48713686444"
       ]
      },
      {
       "output_type": "stream",
       "stream": "stdout",
       "text": [
        " 0.67427128964 0.69976968201\t0.63302322453\t0.571026003132\t0.546531306384\t0.552403120997\t\n",
        "2.44142570401"
       ]
      },
      {
       "output_type": "stream",
       "stream": "stdout",
       "text": [
        " 0.672953672039 0.699051749221\t0.630257072717\t0.571564234796\t0.543286998496\t0.544966845619\t\n",
        "2.39578263746"
       ]
      },
      {
       "output_type": "stream",
       "stream": "stdout",
       "text": [
        " 0.671412719117 0.697365544595\t0.629017945597\t0.569196146017\t0.53951620785\t0.540269405545\t\n",
        "2.35020794978"
       ]
      },
      {
       "output_type": "stream",
       "stream": "stdout",
       "text": [
        " 0.670203158871 0.695944337096\t0.627996768475\t0.565546997579\t0.532842222496\t0.530232032233\t\n",
        "2.30470191787"
       ]
      },
      {
       "output_type": "stream",
       "stream": "stdout",
       "text": [
        " 0.669114243786 0.694689235039\t0.626647005238\t0.564583576586\t0.527868539444\t0.529395842164\t\n",
        "2.25926481063"
       ]
      },
      {
       "output_type": "stream",
       "stream": "stdout",
       "text": [
        " 0.66752767927 0.69384272041\t0.624387405776\t0.564098231036\t0.530401769386\t0.529405871202\t\n",
        "2.21389688909"
       ]
      },
      {
       "output_type": "stream",
       "stream": "stdout",
       "text": [
        " 0.665884283101 0.693008504729\t0.622919640003\t0.561897986671\t0.525804007368\t0.538159176793\t\n",
        "2.16859840647"
       ]
      },
      {
       "output_type": "stream",
       "stream": "stdout",
       "text": [
        " 0.664000192672 0.69146696654\t0.619810584923\t0.559517754871\t0.526026278204\t0.519528261816\t\n",
        "2.12336960835"
       ]
      },
      {
       "output_type": "stream",
       "stream": "stdout",
       "text": [
        " 0.662506510382 0.689987483119\t0.61910064957\t0.558326889784\t0.520137525414\t0.513436336834\t\n",
        "2.0782107327"
       ]
      },
      {
       "output_type": "stream",
       "stream": "stdout",
       "text": [
        " 0.661395830035 0.68957572583\t0.618465840941\t0.555033689615\t0.520723419157\t0.508196608915\t\n",
        "2.03312201003"
       ]
      },
      {
       "output_type": "stream",
       "stream": "stdout",
       "text": [
        " 0.659428431322 0.687695680747\t0.615847895181\t0.556124897222\t0.516478999245\t0.501197011996\t\n",
        "1.98810366348"
       ]
      },
      {
       "output_type": "stream",
       "stream": "stdout",
       "text": [
        " 0.658166302356 0.685980239015\t0.614149695892\t0.552486139937\t0.521738757766\t0.503478739412\t\n",
        "1.94315590893"
       ]
      },
      {
       "output_type": "stream",
       "stream": "stdout",
       "text": [
        " 0.656544555886 0.684519644056\t0.613495301141\t0.548572193599\t0.511630798925\t0.51215764324\t\n",
        "1.89827895508"
       ]
      },
      {
       "output_type": "stream",
       "stream": "stdout",
       "text": [
        " 0.655617041666 0.683932951881\t0.613179890077\t0.549570653754\t0.508824894966\t0.487802003828\t\n",
        "1.85347300359"
       ]
      },
      {
       "output_type": "stream",
       "stream": "stdout",
       "text": [
        " 0.654098900843 0.682498618172\t0.609879911433\t0.546025777409\t0.508947162673\t0.503561500366\t\n",
        "1.80873824913"
       ]
      },
      {
       "output_type": "stream",
       "stream": "stdout",
       "text": [
        " 0.65330590227 0.681772989367\t0.609583880005\t0.546030507612\t0.502826788453\t0.478968089176\t\n",
        "1.7640748795"
       ]
      },
      {
       "output_type": "stream",
       "stream": "stdout",
       "text": [
        " 0.651833045036 0.679610912384\t0.607468001188\t0.545957458226\t0.509853228971\t0.478129185664\t\n",
        "1.71948307576"
       ]
      },
      {
       "output_type": "stream",
       "stream": "stdout",
       "text": [
        " 0.649517502254 0.678118491256\t0.605267015607\t0.54229625811\t0.504277552717\t0.472755730308\t\n",
        "1.67496301227"
       ]
      },
      {
       "output_type": "stream",
       "stream": "stdout",
       "text": [
        " 0.648700980416 0.676840864529\t0.604186054424\t0.54077388238\t0.504821828487\t0.468397444026\t\n",
        "1.63051485685"
       ]
      },
      {
       "output_type": "stream",
       "stream": "stdout",
       "text": [
        " 0.647350796263 0.676119284536\t0.601850048462\t0.539639362743\t0.501868445855\t0.469311945773\t\n",
        "1.5861387708"
       ]
      },
      {
       "output_type": "stream",
       "stream": "stdout",
       "text": [
        " 0.646427415388 0.674649738886\t0.601037172602\t0.537881810135\t0.500412013468\t0.471413786249\t\n",
        "1.54183490908"
       ]
      },
      {
       "output_type": "stream",
       "stream": "stdout",
       "text": [
        " 0.644375904724 0.673579091473\t0.597703206276\t0.533338076437\t0.492953974739\t0.482556394522\t\n",
        "1.49760342033"
       ]
      },
      {
       "output_type": "stream",
       "stream": "stdout",
       "text": [
        " 0.643488137381 0.672701244636\t0.596390895965\t0.533747390789\t0.485698186539\t0.485242637164\t\n",
        "1.45344444702"
       ]
      },
      {
       "output_type": "stream",
       "stream": "stdout",
       "text": [
        " 0.642254153732 0.67124216376\t0.594338342435\t0.530213603992\t0.483336955878\t0.485503295019\t\n",
        "1.40935812551"
       ]
      },
      {
       "output_type": "stream",
       "stream": "stdout",
       "text": [
        " 0.639996745225 0.669492348467\t0.591070566376\t0.525368082316\t0.485338354966\t0.481558030269\t\n",
        "1.36534458615"
       ]
      },
      {
       "output_type": "stream",
       "stream": "stdout",
       "text": [
        " 0.6385342936 0.667947972234\t0.59131327138\t0.526043315828\t0.482184545\t0.478210233735\t\n",
        "1.32140395339"
       ]
      },
      {
       "output_type": "stream",
       "stream": "stdout",
       "text": [
        " 0.636935832666 0.6666060067\t0.587695180971\t0.522952565664\t0.486571104967\t0.46311954881\t\n",
        "1.27753634583"
       ]
      },
      {
       "output_type": "stream",
       "stream": "stdout",
       "text": [
        " 0.635518145365 0.66587967039\t0.587260072281\t0.522230921191\t0.482755370786\t0.460049297244\t\n",
        "1.23374187635"
       ]
      },
      {
       "output_type": "stream",
       "stream": "stdout",
       "text": [
        " 0.635005184044 0.664802124373\t0.585445305459\t0.522333600644\t0.484571258693\t0.462642542547\t\n",
        "1.19002065219"
       ]
      },
      {
       "output_type": "stream",
       "stream": "stdout",
       "text": [
        " 0.634001537146 0.663448817952\t0.584747202197\t0.51968042482\t0.478842093078\t0.456353603084\t\n",
        "1.146372775"
       ]
      },
      {
       "output_type": "stream",
       "stream": "stdout",
       "text": [
        " 0.632146369947 0.662316514863\t0.582765751814\t0.518280970048\t0.480852267166\t0.463706357798\t\n",
        "1.102798341"
       ]
      },
      {
       "output_type": "stream",
       "stream": "stdout",
       "text": [
        " 0.631183393648 0.661330431593\t0.58044392992\t0.514126132677\t0.473369203415\t0.456871877574\t\n",
        "1.05929744099"
       ]
      },
      {
       "output_type": "stream",
       "stream": "stdout",
       "text": [
        " 0.629755447552 0.659985504043\t0.579165638379\t0.513787909136\t0.469801010491\t0.465458521705\t\n",
        "1.01587016049"
       ]
      },
      {
       "output_type": "stream",
       "stream": "stdout",
       "text": [
        " 0.62762851182 0.658521703759\t0.578551652687\t0.514134652746\t0.471248355526\t0.441466829217\t\n",
        "0.972516579813"
       ]
      },
      {
       "output_type": "stream",
       "stream": "stdout",
       "text": [
        " 0.626703567014 0.657739803042\t0.576743216878\t0.50715977003\t0.464925230779\t0.449569163666\t\n",
        "0.929236774117"
       ]
      },
      {
       "output_type": "stream",
       "stream": "stdout",
       "text": [
        " 0.625519500859 0.655779864784\t0.574390486331\t0.506253625785\t0.466590554693\t0.44810433417\t\n",
        "0.88603081353"
       ]
      },
      {
       "output_type": "stream",
       "stream": "stdout",
       "text": [
        " 0.623918130707 0.654676297626\t0.572671857719\t0.501627138403\t0.462212874197\t0.449994976479\t\n",
        "0.799840683432"
       ]
      },
      {
       "output_type": "stream",
       "stream": "stdout",
       "text": [
        " 0.621392705728 0.652934064855\t0.570577170746\t0.501538127202\t0.451868383894\t0.452975832127\t\n",
        "0.756856629666"
       ]
      },
      {
       "output_type": "stream",
       "stream": "stdout",
       "text": [
        " 0.619877981282 0.651194759092\t0.569394631891\t0.502514324005\t0.452095474879\t0.454297716153\t\n",
        "0.713946652661"
       ]
      },
      {
       "output_type": "stream",
       "stream": "stdout",
       "text": [
        " 0.61787384566 0.649257777593\t0.567236176764\t0.499182853988\t0.450089159761\t0.450132605551\t\n",
        "0.671110798517"
       ]
      },
      {
       "output_type": "stream",
       "stream": "stdout",
       "text": [
        " 0.616400744547 0.647825902407\t0.564937919172\t0.498577435027\t0.451888048473\t0.446803836218\t\n",
        "0.585661620467"
       ]
      },
      {
       "output_type": "stream",
       "stream": "stdout",
       "text": [
        " 0.613855666687 0.646244438155\t0.562616075023\t0.491140864361\t0.449183041622\t0.450518942002\t\n",
        "0.543048366236"
       ]
      },
      {
       "output_type": "stream",
       "stream": "stdout",
       "text": [
        " 0.613409601527 0.645134201609\t0.561108587145\t0.493572771528\t0.446723647789\t0.45237008433\t\n",
        "0.50050937437"
       ]
      },
      {
       "output_type": "stream",
       "stream": "stdout",
       "text": [
        " 0.611819745844 0.64396769013\t0.560100749433\t0.491552070599\t0.446195217102\t0.45544228544\t\n",
        "0.458044668897"
       ]
      },
      {
       "output_type": "stream",
       "stream": "stdout",
       "text": [
        " 0.610204462842 0.642846150847\t0.557508162039\t0.487405289507\t0.443693417864\t0.451282982798\t\n",
        "0.415654269654"
       ]
      },
      {
       "output_type": "stream",
       "stream": "stdout",
       "text": [
        " 0.608970501589 0.641637506526\t0.558197687331\t0.485224736069\t0.445846528735\t0.456773671799\t\n",
        "0.373338192361"
       ]
      },
      {
       "output_type": "stream",
       "stream": "stdout",
       "text": [
        " 0.608285577552 0.64044772814\t0.55642509141\t0.483345129423\t0.450772809523\t0.440745685686\t\n",
        "0.331096448691"
       ]
      },
      {
       "output_type": "stream",
       "stream": "stdout",
       "text": [
        " 0.606835224642 0.639138008325\t0.554801545048\t0.484154896569\t0.447677968191\t0.438150711655\t\n",
        "0.288929046341"
       ]
      },
      {
       "output_type": "stream",
       "stream": "stdout",
       "text": [
        " 0.605881168247 0.638310034187\t0.553177754838\t0.479810166901\t0.43661765789\t0.437930502328\t\n",
        "0.246835989105"
       ]
      },
      {
       "output_type": "stream",
       "stream": "stdout",
       "text": [
        " 0.604027781065 0.636236235697\t0.552395378692\t0.475844107973\t0.431567019792\t0.435217194427\t\n",
        "0.204817276939"
       ]
      },
      {
       "output_type": "stream",
       "stream": "stdout",
       "text": [
        " 0.60322636565 0.635140189642\t0.5509309502\t0.476692394552\t0.429145524985\t0.389900460426\t\n",
        "0.162872906035"
       ]
      },
      {
       "output_type": "stream",
       "stream": "stdout",
       "text": [
        " 0.601071158418 0.634073764216\t0.548558711684\t0.476324922614\t0.422858850924\t0.410660844795\t\n",
        "0.121002868884"
       ]
      },
      {
       "output_type": "stream",
       "stream": "stdout",
       "text": [
        " 0.600861093738 0.633600383649\t0.547667802893\t0.475856815733\t0.43312148247\t0.424298921801\t\n",
        "0.0792071543417"
       ]
      },
      {
       "output_type": "stream",
       "stream": "stdout",
       "text": [
        " 0.599220469266 0.632105029688\t0.545896273993\t0.476179768577\t0.430749566855\t0.429689232536\t\n",
        "0.0374857477009"
       ]
      },
      {
       "output_type": "stream",
       "stream": "stdout",
       "text": [
        " 0.598485210007 0.632199753708\t0.544920155767\t0.475713617045\t0.431553353718\t0.437633288585\t\n",
        "0.0"
       ]
      },
      {
       "output_type": "stream",
       "stream": "stdout",
       "text": [
        " 0.596882510255 0.630375863151\t0.543536020601\t0.477827296718\t0.430951778148\t0.442460347062\t\n"
       ]
      }
     ],
     "prompt_number": 11
    },
    {
     "cell_type": "code",
     "collapsed": false,
     "input": [
      "print \"Done!\""
     ],
     "language": "python",
     "metadata": {},
     "outputs": [
      {
       "output_type": "stream",
       "stream": "stdout",
       "text": [
        "Write Data_2DHisto/2D_Histo_Data.txt\n",
        "Done!\n"
       ]
      }
     ],
     "prompt_number": 23
    },
    {
     "cell_type": "code",
     "collapsed": false,
     "input": [],
     "language": "python",
     "metadata": {},
     "outputs": []
    }
   ],
   "metadata": {}
  }
 ]
}