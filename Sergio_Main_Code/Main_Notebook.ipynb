{
 "metadata": {
  "name": "",
  "signature": "sha256:06c159d7b9d8c1de37a3f522ddc35a4c30b9617282f17b714bb2634c7bda4c1c"
 },
 "nbformat": 3,
 "nbformat_minor": 0,
 "worksheets": [
  {
   "cells": [
    {
     "cell_type": "code",
     "collapsed": true,
     "input": [
      "################################################ Package ##################################################\n",
      "#Main Libs\n",
      "import numpy as np\n",
      "#Notebook Libs\n",
      "import matplotlib\n",
      "import matplotlib.pyplot as plt\n",
      "%matplotlib inline \n",
      "#Internal Libs\n",
      "## HERE I IMPORT THE INTERNAL LIB \n",
      "import Read as R\n",
      "import Mate as M\n",
      "import Database as D\n",
      "import Functions as F\n",
      "import Print as P\n",
      "print \"######################################################\"\n",
      "print \"Starting the code!! Good Luck!!\"\n",
      "print \"Package Load\""
     ],
     "language": "python",
     "metadata": {},
     "outputs": []
    },
    {
     "cell_type": "code",
     "collapsed": true,
     "input": [
      "################################################ Pannel ################################################\n",
      "Use_CW = False #USE THE COSMIC WEB (TO BE DONE IN THIS NEW VERSION OF THE CODE)\n",
      "DO_2DHistogram = True # PRINT THE INFORMATION OF THE COLOR 2D HISTOGRAM\n",
      "DO_Track = True # PRINT THE INFORMATION OF TRACKING THE HALOES \n",
      "Track_Snap = [111,79] #SNAPSHOTS TO PRINT IN DO_TRACK, LBT = 5,8 Gyrs\n",
      "print \"Pannel load\""
     ],
     "language": "python",
     "metadata": {},
     "outputs": []
    },
    {
     "cell_type": "code",
     "collapsed": false,
     "input": [
      "############################################### VARS ###################################################\n",
      "Init_Snap = D.Init_Snap\n",
      "print \"Vars load\""
     ],
     "language": "python",
     "metadata": {},
     "outputs": []
    },
    {
     "cell_type": "code",
     "collapsed": false,
     "input": [
      "############################################### Init ###################################################\n",
      "print \"Init\""
     ],
     "language": "python",
     "metadata": {},
     "outputs": []
    },
    {
     "cell_type": "code",
     "collapsed": false,
     "input": [
      "############################################### Read ###################################################\n",
      "D_Web = []\n",
      "if D.Sim == 'B' and Use_CW:\n",
      "    print 'Reading Cosmic Web'\n",
      "    CosmicWeb = R.Read_CW(\"/home/sergio/Escritorio/Projects/Dropbox/Dropbox_DATA/Webs/256Web.txt\",256)\n",
      "    # I READ THE COSMIC WEB  (CHANGE THE DIR HERE) FOR TWEB\n",
      "    D_ID,D_New_ID,D_Npart,D_J,D_Web = R.Read_Step0(Init_Snap,Using_Web = True,Web = CosmicWeb)\n",
      "    #READ THE INITIAL SNAPSHOT (D -> DESCENDANT) AT z=0\n",
      "else:\n",
      "    D_ID,D_New_ID,D_Npart,D_J = R.Read_Step0(Init_Snap)\n",
      "    #READ THE INITIAL SNAPSHOT (D -> DESCENDANT) AT z=0\n",
      "print \"Read\""
     ],
     "language": "python",
     "metadata": {},
     "outputs": []
    },
    {
     "cell_type": "code",
     "collapsed": false,
     "input": [
      "z,time = R.Read_Time('B')\n",
      "#READ THE TIME AND REDSHIFT OF THE SIMMULATION OF B (BOLSHOI)"
     ],
     "language": "python",
     "metadata": {},
     "outputs": []
    },
    {
     "cell_type": "code",
     "collapsed": false,
     "input": [
      "Long_Des = len(D_ID)\n",
      "#Number of Desc.\n",
      "Base_Snap = D.Init_Snap - D.End_Snap + 1\n",
      "##### Galaxy properties\n",
      "Pr_ID = np.zeros((Base_Snap,Long_Des),dtype = long) - 99\n",
      "#HERE I SAVE THE ID OF THE PROGENITORS OF THE HALOS AT z=0\n",
      "#IF THE HALO LOSE IT PROGENITOR, IT WILL HAVE AN ID OF -99\n",
      "Form_Snap = np.zeros((Base_Snap,Long_Des),dtype = long) + D.End_Snap\n",
      "# THE FORMATION SNAPSHOT OF THE HALO\n",
      "Pr_J =  np.zeros((Base_Snap,Long_Des,3),dtype = float) - 99\n",
      "# THE ANGULAR MOMENTUM OF THE PROGENITORS OF THE HALOS AT z=0\n",
      "#IF THE HALO LOSE IT PROGENITOR, IT WILL HAVE A J OF -99\n",
      "Pr_Npart =  np.zeros((Base_Snap,Long_Des),dtype = float)\n",
      "# THE NUMBER OF PARTICLES OF THE PROGENITORS OF THE HALOS AT z=0\n",
      "#IF THE HALO LOSE IT PROGENITOR, IT WILL HAVE A VALUE OF -99\n",
      "Pr_NProg =  np.zeros((Base_Snap,Long_Des),dtype = int)\n",
      "# THE NUMBER OF PROGENITOR IN THE PREV. SNAPSHOT OF THE PROGENITORS OF THE HALOS AT z=0 (EG\n",
      "# IF THERE WAS A MERGER, THIS NUMBER IS MORE THAN 1\n",
      "#IF THE HALO LOSE IT PROGENITOR, IT WILL HAVE A VALUE OF -99\n",
      "Pr_ID[D.Init_Snap - D.End_Snap] = D_ID[:]\n",
      "Pr_J[D.Init_Snap - D.End_Snap] = D_J[:]\n",
      "Pr_Npart[D.Init_Snap - D.End_Snap] = D_Npart[:]\n",
      "#I GIVE THE VALUES OF THE FIRST SNAPSHOT EQUAL AS THE DESCENDANT\n",
      "Main_Index = []\n",
      "##"
     ],
     "language": "python",
     "metadata": {},
     "outputs": []
    },
    {
     "cell_type": "code",
     "collapsed": false,
     "input": [
      "######################### MAIN ################################"
     ],
     "language": "python",
     "metadata": {},
     "outputs": []
    },
    {
     "cell_type": "code",
     "collapsed": false,
     "input": [
      "######################### Load Index ###########################\n",
      "# HERE I READ THE OTHER SNAPSHOT, AND I ASSIGNE RHE VALUES READ HERE\n",
      "# TO THE RESPECTIVE DESCENDANT, ALL THE ARRAY HAVE THE NEXT STRUCTURE:\n",
      "# ARRAY[SNAPSHOT][DESENDENT] WITH SNAPSHOT THE SNAPSHOT OF THE SIM (200 == z=0)\n",
      "# SO THE FINAL RESULT: ARRAY[3][200] IS A HALO (3) AT z = 0, ARRAY[3][199] IS\n",
      "# THE SAME HALO IN THE NEXT SNAPSHOT, ARRAY[3][79] IS THAT GALAXY AT LBT = 8 Gyrs\n",
      "# IF ARRAY = -99 MEANS THAT HALO WAS NOT CREATED (OR WAS BELOW 1000 PARTICLES)\n",
      "# AT THAT REDSHIFT\n",
      "for Snap2 in reversed(range(Base_Snap-1)):\n",
      "    Snap = Snap2+D.End_Snap\n",
      "    P_ID,P_New_ID,P_Npart,P_J = R.Read_Main(Snap)\n",
      "    #print len(Main_Index[Snap2])\n",
      "    del Main_Index\n",
      "    Main_Index = []\n",
      "    for i in range(len(D_ID)):\n",
      "        if Pr_ID[Snap2+1][i] >= 0:\tindex = F.Locate_Prog(0,len(P_ID)-1,Pr_ID[Snap2+1][i],P_New_ID)\n",
      "        else:\tindex = -99\n",
      "        if index >= 0:\tPr_NProg[Snap2][i],Main_ID,Max_Mass,Next_ID,Next_Mass  = F.Locate_MainProg(index,Pr_ID[Snap2+1][i],P_New_ID,P_Npart)\n",
      "        else:\tNprog,Main_ID,Max_Mass,Next_ID,Next_Mass,Form_Snap[Snap2][i]   = -99,-99,-99,-99,-99,Snap\n",
      "        Main_Index.append(index)\n",
      "        ###\n",
      "    IND = np.where(np.array(Main_Index) < 0)\n",
      "    Pr_J[Snap2] = P_J[Main_Index]\n",
      "    Pr_J[Snap2][IND] = np.array([-99,-99,-99])\n",
      "    Pr_ID[Snap2] = P_ID[Main_Index]\n",
      "    Pr_ID[Snap2][IND] = -99\n",
      "    Pr_Npart[Snap2] = P_Npart[Main_Index]\n",
      "    Pr_Npart[Snap2][IND] = -99\n",
      "    #print Snap,len(IND[0]),'\\r'"
     ],
     "language": "python",
     "metadata": {},
     "outputs": []
    },
    {
     "cell_type": "code",
     "collapsed": false,
     "input": [
      "DO_MillSnap = False\n",
      "if DO_2DHistogram:\n",
      "    # THE DO_MILLSNAP IS NOT READY, IS TO MAKE CONSIDE THE SNAPSHOT TIMES TO THE ONES IN THE MILL. SIM.\n",
      "    # NOTE, IT ACTUALLY WORKS, BUT HAVE NOT BEEN TESTED, USED UNDER YOUR OWN RISK\n",
      "    if DO_MillSnap:\n",
      "        Snap01 = D.LSnap[-1] - D.End_Snap\n",
      "        Snap02 = D.LSnap[-2] - D.End_Snap\n",
      "        Snap03 = D.LSnap[-3] - D.End_Snap\n",
      "    else:\n",
      "        Snap01 = D.Init_Snap - D.End_Snap\n",
      "        Snap02 = Snap01 - 1\n",
      "        Snap03 = Snap02 - 1\n",
      "    ID_to_Look = np.where(Pr_ID[Snap03] > -1)\n",
      "    # I LOOK FOR HALOS THAT HAVE EXIST FOR AT LEAST THE 3 FIRST SNAPSHOTS\n",
      "    ##\n",
      "    Angl1 = [] # THE CHANGE OF ANGLE OF J BETWEEN THE FIRST TWO SNAPSHOTS\n",
      "    Angl2 = [] # THE CHANGE OF ANGLE OF J BETWEEN THE SECOND AND THIRD SNAPSHOT\n",
      "    Angl3 = [] # THE CHANGE OF ANGLE OF J BETWEEN THE FIRST AND THIRD SNAPSHOT\n",
      "    Angl4 = [] # THE CHANGE OF ANGLE BETWEEN THE FIRST AND THIRD SNAPSHOT IN CASE\n",
      "               # OF A RANDOM ORIENTATION BETWEEN THE ANGELS\n",
      "    CAngl = [] # NOT IN USE!\n",
      "    IDs = 0\n",
      "    ##\n",
      "    for i in ID_to_Look[0]:\n",
      "        Angl1.append(M.Angle(Pr_J[Snap02][i][0],Pr_J[Snap02][i][1],Pr_J[Snap02][i][2],Pr_J[Snap01][i][0],Pr_J[Snap01][i][1],Pr_J[Snap01][i][2]))\n",
      "        Angl2.append(M.Angle(Pr_J[Snap02][i][0],Pr_J[Snap02][i][1],Pr_J[Snap02][i][2],Pr_J[Snap03][i][0],Pr_J[Snap03][i][1],Pr_J[Snap03][i][2]))\n",
      "        Angl3.append(M.Angle(Pr_J[Snap01][i][0],Pr_J[Snap01][i][1],Pr_J[Snap01][i][2],Pr_J[Snap03][i][0],Pr_J[Snap03][i][1],Pr_J[Snap03][i][2]))\n",
      "        CAngl.append(F.CAngle(Pr_J[Snap01][i][0],Pr_J[Snap01][i][1],Pr_J[Snap01][i][2],Pr_J[Snap02][i][0],Pr_J[Snap02][i][1],Pr_J[Snap02][i][2],Pr_J[Snap03][i][0],Pr_J[Snap03][i][1],Pr_J[Snap03][i][2]))\n",
      "        # I CALCULATE THE CHANGE OF ANGLE BETWEEN THE SNAPSHOT\n",
      "        ########\n",
      "        Rand_Jx1,Rand_Jy1,Rand_Jz1 =  M.Ang_Rand(Pr_J[Snap01][i][0],Pr_J[Snap01][i][1],Pr_J[Snap01][i][2],Angl1[IDs])\n",
      "        Rand_Jx2,Rand_Jy2,Rand_Jz2 =  M.Ang_Rand(Rand_Jx1,Rand_Jy1,Rand_Jz1,Angl2[IDs])\n",
      "        Angl4.append(M.Angle(Rand_Jx2,Rand_Jy2,Rand_Jz2,Pr_J[Snap01][i][0],Pr_J[Snap01][i][1],Pr_J[Snap01][i][2]))\n",
      "        # I CALCULATE THE CHANGE OF ANGLE BETWEEN THE SNAPSHOT FOR RANDOM ORIENTATED ANGLES (SEE EXPLANATION OF RANDOM ANGLE IN THE NEXT CELL)\n",
      "        #######\n",
      "        IDs += 1\n",
      "    P.Print_Basic2([Angl1,Angl2,Angl3,Angl4,CAngl],'Data_2DHisto/2D_Histo_Data.txt') \n",
      "    # I SAVE THE DATA, NEXT IS THE SAME BUT FOR MILLENIUM SNAPSHOTS, SHOULD BE OPTIMIZE THIS SOON\n",
      "    if DO_MillSnap:\n",
      "        Snap01 = D.Init_Snap - D.End_Snap\n",
      "        Snap02 = Snap01 - 1\n",
      "        Snap03 = Snap02 - 1\n",
      "        ID_to_Look = np.where(Pr_ID[Snap03] > -1)\n",
      "        ##\n",
      "        Angl1 = []\n",
      "        Angl2 = []\n",
      "        Angl3 = []\n",
      "        Angl4 = []\n",
      "        CAngl = []\n",
      "        IDs = 0\n",
      "        ##\n",
      "        for i in ID_to_Look[0]:\n",
      "            Angl1.append(M.Angle(Pr_J[Snap02][i][0],Pr_J[Snap02][i][1],Pr_J[Snap02][i][2],Pr_J[Snap01][i][0],Pr_J[Snap01][i][1],Pr_J[Snap01][i][2]))\n",
      "            Angl2.append(M.Angle(Pr_J[Snap02][i][0],Pr_J[Snap02][i][1],Pr_J[Snap02][i][2],Pr_J[Snap03][i][0],Pr_J[Snap03][i][1],Pr_J[Snap03][i][2]))\n",
      "            Angl3.append(M.Angle(Pr_J[Snap01][i][0],Pr_J[Snap01][i][1],Pr_J[Snap01][i][2],Pr_J[Snap03][i][0],Pr_J[Snap03][i][1],Pr_J[Snap03][i][2]))\n",
      "        \n",
      "            CAngl.append(F.CAngle(Pr_J[Snap01][i][0],Pr_J[Snap01][i][1],Pr_J[Snap01][i][2],Pr_J[Snap02][i][0],Pr_J[Snap02][i][1],Pr_J[Snap02][i][2],Pr_J[Snap03][i][0],Pr_J[Snap03][i][1],Pr_J[Snap03][i][2]))\n",
      "            ########\n",
      "            Rand_Jx1,Rand_Jy1,Rand_Jz1 =  M.Ang_Rand(Pr_J[Snap01][i][0],Pr_J[Snap01][i][1],Pr_J[Snap01][i][2],Angl1[IDs])\n",
      "            Rand_Jx2,Rand_Jy2,Rand_Jz2 =  M.Ang_Rand(Rand_Jx1,Rand_Jy1,Rand_Jz1,Angl2[IDs])\n",
      "            Angl4.append(M.Angle(Rand_Jx2,Rand_Jy2,Rand_Jz2,Pr_J[Snap01][i][0],Pr_J[Snap01][i][1],Pr_J[Snap01][i][2]))\n",
      "            #######\n",
      "            IDs += 1\n",
      "        P.Print_Basic2([Angl1,Angl2,Angl3,Angl4,CAngl],'Data_2DHisto/2D_Histo_Data_OriginalTimeStep.txt')         "
     ],
     "language": "python",
     "metadata": {},
     "outputs": []
    },
    {
     "cell_type": "code",
     "collapsed": false,
     "input": [
      "if DO_Track:\n",
      "    J_rand = F.Get_Random_J2(Pr_J,Pr_Npart,Ratio = -1)\n",
      "    # CALCULATE RANDOM ANGLES OF THE HALOES, THE IDEA HERE IS TO FOLLOW THE HALOES THAT SUFFER OF THE\n",
      "    # SAME CHANGE OF ANGLE IN J  BUT ONLY IN MODULUS, NOT IN DIRECTION, THE DIRECTION IS SET TO BE RANDOM\n",
      "    # EXAMPLE, J CHANGE FIRST 10 DEGREES, THEN 20 DEGREES, IN REALLITY THE TOTAL CHANGE WAS 25 (FOR EXAMPLE)\n",
      "    # BUT RANDOM DIRECTION (THAT ALSO SUFFER 2 CHANGES OF 10 & 20 DEGREES) COULD BE A TOTAL OF 30 DEGREES, OR\n",
      "    # MAYBE 10  DEGREES\n",
      "    # THE RATIO = -1 IS WHAT IM WORKING NOW, WITH -1 I ALLOW ALL CHANGE OF DIRECTION OF THE RANDOM ANGLE BETWEEN\n",
      "    # COS(ANGLE) =1 TO COS(ANGLE) OF '-1', I HAVE FOUND THAT IF I LIMIT THE RANDOM DIRECTION BETWEEN -0.5 TO 1\n",
      "    # THE RESULTS ARE ACTUALLY REALLY SIMILAR TO THE REAL CHANGE OF ANGLE!!\n",
      "    Pos_Acr_ID = F.Neg_Mass_Status(Pr_Npart,Crit = 1.01)\n",
      "    # HERE I TAKE THE INDEX OF THE GALAXIES THAT DO NOT SUFFER A NEGATIVE ACREATION IN THEIR HISTORY OF MORE\n",
      "    # THAN 1% (THATS WHY 1.01), THE RESULT OF USING THESE GALAXIES ARE DIFFERENT SPECIALLY IN MILL. SIM.\n",
      "    Pr_J_NNA = Pr_J[:,Pos_Acr_ID[0]]\n",
      "    Pr_Npart_NNA = Pr_Npart[:,Pos_Acr_ID[0]]\n",
      "    Pr_Jr_NNA = J_rand[:,Pos_Acr_ID[0]]\n",
      "    # THE NNA MEANS NO NEGATIVE ACREATION\n",
      "    # \n",
      "    #Status2 = np.all(Status[10:122], axis= 0)\n",
      "    #print len(np.where(Status2)[0])"
     ],
     "language": "python",
     "metadata": {},
     "outputs": []
    },
    {
     "cell_type": "code",
     "collapsed": false,
     "input": [
      "if DO_Track:\n",
      "    for first_snap in Track_Snap:\n",
      "        F.Abs_ChangeJ_Full(Pr_J,J_rand,Pr_Npart,first_snap,time,Jump2Mill = False,Cosmic_Web = -1, Web = [],WebID = -2,ExtraName = '')\n",
      "        F.Abs_ChangeJ_Full(Pr_J_NNA,Pr_Jr_NNA,Pr_Npart_NNA,first_snap,time,Jump2Mill = False,Cosmic_Web = -1, Web = [],WebID = -2,ExtraName = 'NNA')\n",
      "        # HERE IT CALCULATE THE DIFFERENT PROPERTIES WE ARE GOING TO FOLLOW, AS YOU SEE, IT HAS AN OPTION OF COSMIC WEB, BECAUSE IN THE OLD\n",
      "        # VERSION OF THE CODE IT COULD SEPARATE BY THAT (THIS ONE I HAVE NOT ADD THIS OPTION YET)\n",
      "        # IT PRINT 3 MAIN FILES:\n",
      "        # CHANGEJ THAT IS HOW MUCH THE ANGULAR MOMENTUM VECTOR HAS BEEN SEPARATE FROM IT ORIGINAL POSITION (FIRST COLUMN LBTIME, THE MEDIAN CHANGE OF ANGLE,\n",
      "        # THEN THE MEDIAN FOR 5 DM OF MASS (10^3 - 10^3.5 PARTICLES, THEN 10^3.5-10^4 PARTICLES, ETC) (FIG. 4 OF THE DRAFT)\n",
      "        # CHANGEDIR IS THE CHANGE OF DIRECTION OF AN ORIGINAL CHANGE OF DIRECTION (FIG 8 OF THE PAPER) THE COLUMNS ARE THE SAME IDEA AS BEFORE\n",
      "        # FINALLY JRATIO, THAT IS THE RATIO BETWEEN THE TOTAL CHANGE OF ANGLE OF THE REAL HALO DIVIDED THE RANDOM ORIENTATED ONE.\n",
      "        # FIRST TWO FILES HAS A _R_ VERTION (WITH THE RANDOM GALAXIES)\n",
      "        \n",
      "        #THEN IT RUN THE SAME BUT FOR THE No Negative Acreation (NAA).\n"
     ],
     "language": "python",
     "metadata": {},
     "outputs": []
    },
    {
     "cell_type": "code",
     "collapsed": false,
     "input": [
      "if DO_Track:\n",
      "    Dir,Dir_Full = F.Proj_Angle(Pr_J,Pr_Npart,79)\n",
      "    Dir_R,Dir_R_Full = F.Proj_Angle(J_rand,Pr_Npart,79)\n",
      "    # STILL IN PROGRESS, A NEW PLOT TO MEASURE THE CHANGE OF DIRECTION"
     ],
     "language": "python",
     "metadata": {},
     "outputs": []
    },
    {
     "cell_type": "code",
     "collapsed": false,
     "input": [
      "print \"Done!\""
     ],
     "language": "python",
     "metadata": {},
     "outputs": []
    },
    {
     "cell_type": "code",
     "collapsed": false,
     "input": [],
     "language": "python",
     "metadata": {},
     "outputs": []
    }
   ],
   "metadata": {}
  }
 ]
}